{
  "nbformat": 4,
  "nbformat_minor": 0,
  "metadata": {
    "colab": {
      "name": "Untitled12.ipynb",
      "provenance": [],
      "authorship_tag": "ABX9TyPaob7VkqJAsRg5ZbNG2Ddc",
      "include_colab_link": true
    },
    "kernelspec": {
      "name": "python3",
      "display_name": "Python 3"
    },
    "language_info": {
      "name": "python"
    }
  },
  "cells": [
    {
      "cell_type": "markdown",
      "metadata": {
        "id": "view-in-github",
        "colab_type": "text"
      },
      "source": [
        "<a href=\"https://colab.research.google.com/github/Nutsudapenpong/DPDM/blob/master/azure_imgs.ipynb\" target=\"_parent\"><img src=\"https://colab.research.google.com/assets/colab-badge.svg\" alt=\"Open In Colab\"/></a>"
      ]
    },
    {
      "cell_type": "code",
      "metadata": {
        "id": "exEckfRjDb3q"
      },
      "source": [
        "import http.client, urllib.request, urllib.parse, urllib.error, base64"
      ],
      "execution_count": 26,
      "outputs": []
    },
    {
      "cell_type": "code",
      "metadata": {
        "id": "8C8RJUmC4Nnj",
        "outputId": "5d0088d1-66a4-4b7d-c6d1-362fef8b27a2",
        "colab": {
          "base_uri": "https://localhost:8080/"
        }
      },
      "source": [
        "pip install requests"
      ],
      "execution_count": 102,
      "outputs": [
        {
          "output_type": "stream",
          "name": "stdout",
          "text": [
            "Requirement already satisfied: requests in /usr/local/lib/python3.7/dist-packages (2.23.0)\n",
            "Requirement already satisfied: certifi>=2017.4.17 in /usr/local/lib/python3.7/dist-packages (from requests) (2021.5.30)\n",
            "Requirement already satisfied: urllib3!=1.25.0,!=1.25.1,<1.26,>=1.21.1 in /usr/local/lib/python3.7/dist-packages (from requests) (1.24.3)\n",
            "Requirement already satisfied: idna<3,>=2.5 in /usr/local/lib/python3.7/dist-packages (from requests) (2.10)\n",
            "Requirement already satisfied: chardet<4,>=3.0.2 in /usr/local/lib/python3.7/dist-packages (from requests) (3.0.4)\n"
          ]
        }
      ]
    },
    {
      "cell_type": "code",
      "metadata": {
        "id": "DlSAERpD4SRX"
      },
      "source": [
        "import requests"
      ],
      "execution_count": 103,
      "outputs": []
    },
    {
      "cell_type": "code",
      "metadata": {
        "id": "TLtZRkshqwPc",
        "outputId": "90ca9643-dc0a-4d31-9990-94c940e580f4",
        "colab": {
          "base_uri": "https://localhost:8080/"
        }
      },
      "source": [
        "from google.colab import drive\n",
        "drive.mount('/content/drive')  "
      ],
      "execution_count": 86,
      "outputs": [
        {
          "output_type": "stream",
          "name": "stdout",
          "text": [
            "Drive already mounted at /content/drive; to attempt to forcibly remount, call drive.mount(\"/content/drive\", force_remount=True).\n"
          ]
        }
      ]
    },
    {
      "cell_type": "code",
      "metadata": {
        "id": "VQqsU27Oq2QB"
      },
      "source": [
        "base_path = '/content/drive/My Drive/Parasite/azure_imgs'"
      ],
      "execution_count": 89,
      "outputs": []
    },
    {
      "cell_type": "code",
      "metadata": {
        "id": "O9zP08hkowsc",
        "outputId": "c9101edd-5a90-4549-a3dc-a2808c6f3aaf",
        "colab": {
          "base_uri": "https://localhost:8080/"
        }
      },
      "source": [
        "# coding: utf-8\n",
        "\n",
        "\"\"\"Download training photos from Azure Custom Vision workspace\n",
        "\"\"\"\n",
        "\n",
        "import http.client\n",
        "import urllib.request\n",
        "import urllib.parse\n",
        "import urllib.error\n",
        "import base64\n",
        "import json\n",
        "import os\n",
        "from PIL import Image\n",
        "import numpy as np\n",
        "import cv2\n",
        "\n",
        "# request headers\n",
        "# only training key is needed\n",
        "headers = {\n",
        " # Request headers\n",
        " 'Training-Key': 'b11bce29a4204fdbbbfe2f4ab28b0a38'\n",
        "}\n",
        "\n",
        "# query parameters\n",
        "# here only several are used\n",
        "params = urllib.parse.urlencode({\n",
        " # Format - int32. Maximum number of images to return. Defaults to 50, limited to 256.\n",
        " 'take': '256',\n",
        " # Format - int32. Number of images to skip before beginning the image batch. Defaults to 0.\n",
        " 'skip': '0'\n",
        "})\n",
        "\n",
        "try:\n",
        " # base url\n",
        "    conn = http.client.HTTPSConnection(\n",
        " 'southcentralus.api.cognitive.microsoft.com')\n",
        "    conn.request(\n",
        " \"GET\", \"/customvision/v3.2/training/projects/2febdca4-2535-4b59-bb6b-061e79aa89cb/images/tagged?%s\" % params, \"{body}\", headers)\n",
        "    response = conn.getresponse()\n",
        " # get response as a raw string\n",
        "    data = response.read()\n",
        " # convert the string to a json object\n",
        "    data_json = json.loads(data)\n",
        "    i = 0\n",
        "    for item in data_json:\n",
        " # uri for image download\n",
        "        originalImageUri = item['originalImageUri']\n",
        " # image tag\n",
        "        tag_name = item[\"tags\"][0][\"tagName\"]\n",
        "        print(tag_name)\n",
        "        print(len(os.listdir(base_path)))\n",
        " # to not erase previously saved photos counter (file_counter) = number of photos in a folder + 1\n",
        "        file_counter = i + 1\n",
        "        i = i + 1\n",
        "        print(file_counter)\n",
        " # as the tag name corresponds to the folder name so just save a photo to a corresponding folder\n",
        "        output_file = os.path.join(tag_name +'_'+ str(file_counter) + '.jpg')\n",
        "        print(output_file)\n",
        " # download image from uri\n",
        "        img = requests.get(originalImageUri, stream=True)\n",
        "        path = os.path.join(base_path,output_file)\n",
        "        with open(path, 'wb') as f:\n",
        "            f.write(img.content)\n",
        "            f.close\n",
        "    conn.close()\n",
        "except Exception as e:\n",
        "    print(\"Error\")"
      ],
      "execution_count": 106,
      "outputs": [
        {
          "output_type": "stream",
          "name": "stdout",
          "text": [
            "Ascaris\n",
            "0\n",
            "1\n",
            "Ascaris_1.jpg\n",
            "Ascaris\n",
            "1\n",
            "2\n",
            "Ascaris_2.jpg\n",
            "Ascaris\n",
            "2\n",
            "3\n",
            "Ascaris_3.jpg\n",
            "Ascaris\n",
            "3\n",
            "4\n",
            "Ascaris_4.jpg\n",
            "Ascaris\n",
            "4\n",
            "5\n",
            "Ascaris_5.jpg\n",
            "Ascaris\n",
            "5\n",
            "6\n",
            "Ascaris_6.jpg\n",
            "Ov\n",
            "6\n",
            "7\n",
            "Ov_7.jpg\n",
            "Hookworm\n",
            "7\n",
            "8\n",
            "Hookworm_8.jpg\n"
          ]
        }
      ]
    }
  ]
}