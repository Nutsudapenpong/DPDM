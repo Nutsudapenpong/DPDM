{
  "nbformat": 4,
  "nbformat_minor": 0,
  "metadata": {
    "colab": {
      "name": "Tensorflow (network).ipynb",
      "provenance": [],
      "authorship_tag": "ABX9TyMBc6Qd+f+6qIlaMe9N/rL6",
      "include_colab_link": true
    },
    "kernelspec": {
      "name": "python3",
      "display_name": "Python 3"
    },
    "language_info": {
      "name": "python"
    }
  },
  "cells": [
    {
      "cell_type": "markdown",
      "metadata": {
        "id": "view-in-github",
        "colab_type": "text"
      },
      "source": [
        "<a href=\"https://colab.research.google.com/github/Nutsudapenpong/DPDM/blob/master/Tensorflow_(network).ipynb\" target=\"_parent\"><img src=\"https://colab.research.google.com/assets/colab-badge.svg\" alt=\"Open In Colab\"/></a>"
      ]
    },
    {
      "cell_type": "markdown",
      "source": [
        "1. Sequential (easy but not complexity (straight))\n",
        "2. Functional (more difficult but able to increase complexity)\n",
        "\n",
        "~~3. Subclassing~~ (the most difficult but able to adjust as much as you like)"
      ],
      "metadata": {
        "id": "Yd6Sfoptzg32"
      }
    },
    {
      "cell_type": "code",
      "execution_count": null,
      "metadata": {
        "id": "aTzEFo7mzWcz"
      },
      "outputs": [],
      "source": [
        "import tensorflow as tf\n",
        "from tensorflow import keras\n",
        "from tensorflow.keras import layers"
      ]
    }
  ]
}