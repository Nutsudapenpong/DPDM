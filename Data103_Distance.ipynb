{
  "nbformat": 4,
  "nbformat_minor": 0,
  "metadata": {
    "colab": {
      "name": "Data103 Distance.ipynb",
      "provenance": [],
      "authorship_tag": "ABX9TyM99+CIucwdTHaRpdldmWgY",
      "include_colab_link": true
    },
    "kernelspec": {
      "name": "python3",
      "display_name": "Python 3"
    }
  },
  "cells": [
    {
      "cell_type": "markdown",
      "metadata": {
        "id": "view-in-github",
        "colab_type": "text"
      },
      "source": [
        "<a href=\"https://colab.research.google.com/github/Nutsudapenpong/DPDM/blob/master/Data103_Distance.ipynb\" target=\"_parent\"><img src=\"https://colab.research.google.com/assets/colab-badge.svg\" alt=\"Open In Colab\"/></a>"
      ]
    },
    {
      "cell_type": "code",
      "metadata": {
        "id": "ulTjeM1avnUe",
        "colab_type": "code",
        "colab": {}
      },
      "source": [
        "import numpy as np #ไลบราลี่สำหรับคำนวณ"
      ],
      "execution_count": 21,
      "outputs": []
    },
    {
      "cell_type": "code",
      "metadata": {
        "id": "FdQ8ZEf5wLvj",
        "colab_type": "code",
        "colab": {
          "base_uri": "https://localhost:8080/",
          "height": 51
        },
        "outputId": "c3d48c6a-34af-4c7d-8b48-a301c9bb5b5b"
      },
      "source": [
        "np.array([[1,2,3],[4,5,6]])"
      ],
      "execution_count": 22,
      "outputs": [
        {
          "output_type": "execute_result",
          "data": {
            "text/plain": [
              "array([[1, 2, 3],\n",
              "       [4, 5, 6]])"
            ]
          },
          "metadata": {
            "tags": []
          },
          "execution_count": 22
        }
      ]
    },
    {
      "cell_type": "code",
      "metadata": {
        "id": "A4wLSRRmwWF0",
        "colab_type": "code",
        "colab": {
          "base_uri": "https://localhost:8080/",
          "height": 51
        },
        "outputId": "9ad15c5a-d574-4311-875e-8da042fb0ac5"
      },
      "source": [
        "A = np.array([[1,2,3],[4,5,6]])\n",
        "A"
      ],
      "execution_count": 23,
      "outputs": [
        {
          "output_type": "execute_result",
          "data": {
            "text/plain": [
              "array([[1, 2, 3],\n",
              "       [4, 5, 6]])"
            ]
          },
          "metadata": {
            "tags": []
          },
          "execution_count": 23
        }
      ]
    },
    {
      "cell_type": "code",
      "metadata": {
        "id": "GvL-cmq2waqS",
        "colab_type": "code",
        "colab": {
          "base_uri": "https://localhost:8080/",
          "height": 68
        },
        "outputId": "d5465904-6713-4391-d2b7-b6d41918a6eb"
      },
      "source": [
        "A.T #Transpose matrix"
      ],
      "execution_count": 24,
      "outputs": [
        {
          "output_type": "execute_result",
          "data": {
            "text/plain": [
              "array([[1, 4],\n",
              "       [2, 5],\n",
              "       [3, 6]])"
            ]
          },
          "metadata": {
            "tags": []
          },
          "execution_count": 24
        }
      ]
    },
    {
      "cell_type": "code",
      "metadata": {
        "id": "cqhwdo0cwopH",
        "colab_type": "code",
        "colab": {
          "base_uri": "https://localhost:8080/",
          "height": 51
        },
        "outputId": "07ba7a05-4ed1-48c6-b48b-66fd691b9061"
      },
      "source": [
        "A.dot(A.T) #คูณเมทริกซ์"
      ],
      "execution_count": 25,
      "outputs": [
        {
          "output_type": "execute_result",
          "data": {
            "text/plain": [
              "array([[14, 32],\n",
              "       [32, 77]])"
            ]
          },
          "metadata": {
            "tags": []
          },
          "execution_count": 25
        }
      ]
    },
    {
      "cell_type": "code",
      "metadata": {
        "id": "pHOda9sGwx4Z",
        "colab_type": "code",
        "colab": {
          "base_uri": "https://localhost:8080/",
          "height": 51
        },
        "outputId": "7f7adc39-0295-4dbd-be8c-a4964e080393"
      },
      "source": [
        "A #ขนาดไม่ได้"
      ],
      "execution_count": 26,
      "outputs": [
        {
          "output_type": "execute_result",
          "data": {
            "text/plain": [
              "array([[1, 2, 3],\n",
              "       [4, 5, 6]])"
            ]
          },
          "metadata": {
            "tags": []
          },
          "execution_count": 26
        }
      ]
    },
    {
      "cell_type": "markdown",
      "metadata": {
        "id": "bbQ1POIbxaCX",
        "colab_type": "text"
      },
      "source": [
        "## Array slicing"
      ]
    },
    {
      "cell_type": "code",
      "metadata": {
        "id": "Aa8juk0PxMi6",
        "colab_type": "code",
        "colab": {
          "base_uri": "https://localhost:8080/",
          "height": 34
        },
        "outputId": "232f455c-2234-4fa0-b510-a62004e6a6dc"
      },
      "source": [
        "A[0,1] #ชี้จุดว่าค่าเป็นเท่าไร"
      ],
      "execution_count": 27,
      "outputs": [
        {
          "output_type": "execute_result",
          "data": {
            "text/plain": [
              "2"
            ]
          },
          "metadata": {
            "tags": []
          },
          "execution_count": 27
        }
      ]
    },
    {
      "cell_type": "code",
      "metadata": {
        "id": "LfmCTOUTxtyw",
        "colab_type": "code",
        "colab": {
          "base_uri": "https://localhost:8080/",
          "height": 51
        },
        "outputId": "df435dcd-ac62-4e72-fd80-9753f93cfa60"
      },
      "source": [
        "A[:,:2] #ข้างหน้าคือแถว ข้างหลังคือหลัก ตัอย่างแถวเอาทั้งหมด หลักเอาแค่ถึง 2"
      ],
      "execution_count": 28,
      "outputs": [
        {
          "output_type": "execute_result",
          "data": {
            "text/plain": [
              "array([[1, 2],\n",
              "       [4, 5]])"
            ]
          },
          "metadata": {
            "tags": []
          },
          "execution_count": 28
        }
      ]
    },
    {
      "cell_type": "code",
      "metadata": {
        "id": "pHBQtcYLyegn",
        "colab_type": "code",
        "colab": {
          "base_uri": "https://localhost:8080/",
          "height": 34
        },
        "outputId": "aebb90d8-f0c9-4b8e-ef20-a8e90e2bacef"
      },
      "source": [
        "A[1,1:]"
      ],
      "execution_count": 29,
      "outputs": [
        {
          "output_type": "execute_result",
          "data": {
            "text/plain": [
              "array([5, 6])"
            ]
          },
          "metadata": {
            "tags": []
          },
          "execution_count": 29
        }
      ]
    },
    {
      "cell_type": "markdown",
      "metadata": {
        "id": "EJiBjdDf0LMn",
        "colab_type": "text"
      },
      "source": [
        "###Distance matrix (Manhattan)"
      ]
    },
    {
      "cell_type": "code",
      "metadata": {
        "id": "GkPnUiA1zaq8",
        "colab_type": "code",
        "colab": {
          "base_uri": "https://localhost:8080/",
          "height": 85
        },
        "outputId": "47c7065e-2bc5-4e17-c16b-5659fae7a9f4"
      },
      "source": [
        "A = np.array([[1,2],[3,5],[2,0],[4,5]])\n",
        "A"
      ],
      "execution_count": 30,
      "outputs": [
        {
          "output_type": "execute_result",
          "data": {
            "text/plain": [
              "array([[1, 2],\n",
              "       [3, 5],\n",
              "       [2, 0],\n",
              "       [4, 5]])"
            ]
          },
          "metadata": {
            "tags": []
          },
          "execution_count": 30
        }
      ]
    },
    {
      "cell_type": "code",
      "metadata": {
        "id": "YjkkUBS20Xdg",
        "colab_type": "code",
        "colab": {}
      },
      "source": [
        "def Manhattan_dist(dp1,dp2):\n",
        "    distX = abs(dp1[0]-dp2[0])\n",
        "    distY = abs(dp1[1]-dp2[1])\n",
        "    return distX + distY"
      ],
      "execution_count": 31,
      "outputs": []
    },
    {
      "cell_type": "code",
      "metadata": {
        "id": "eXtdhiIb0_qp",
        "colab_type": "code",
        "colab": {
          "base_uri": "https://localhost:8080/",
          "height": 85
        },
        "outputId": "0eb3259f-5fd9-4855-a672-7682fc3da659"
      },
      "source": [
        "np.zeros((4,4)) #ข้อมูลมี 4 เมทริกซ์ระยะห่างก็จะมี 4"
      ],
      "execution_count": 32,
      "outputs": [
        {
          "output_type": "execute_result",
          "data": {
            "text/plain": [
              "array([[0., 0., 0., 0.],\n",
              "       [0., 0., 0., 0.],\n",
              "       [0., 0., 0., 0.],\n",
              "       [0., 0., 0., 0.]])"
            ]
          },
          "metadata": {
            "tags": []
          },
          "execution_count": 32
        }
      ]
    },
    {
      "cell_type": "code",
      "metadata": {
        "id": "_ffVasgt1u6R",
        "colab_type": "code",
        "colab": {
          "base_uri": "https://localhost:8080/",
          "height": 85
        },
        "outputId": "58d792a0-c8ca-49b8-ecec-33509b5a80e0"
      },
      "source": [
        "np.ones((4,4)) #สร้างอาเรย์เปล่า"
      ],
      "execution_count": 33,
      "outputs": [
        {
          "output_type": "execute_result",
          "data": {
            "text/plain": [
              "array([[1., 1., 1., 1.],\n",
              "       [1., 1., 1., 1.],\n",
              "       [1., 1., 1., 1.],\n",
              "       [1., 1., 1., 1.]])"
            ]
          },
          "metadata": {
            "tags": []
          },
          "execution_count": 33
        }
      ]
    },
    {
      "cell_type": "code",
      "metadata": {
        "id": "DUDSTJqS18Or",
        "colab_type": "code",
        "colab": {
          "base_uri": "https://localhost:8080/",
          "height": 85
        },
        "outputId": "242c2ee7-a24c-442e-ab0c-f8951cbc1b7d"
      },
      "source": [
        "7*np.ones((4,4))"
      ],
      "execution_count": 34,
      "outputs": [
        {
          "output_type": "execute_result",
          "data": {
            "text/plain": [
              "array([[7., 7., 7., 7.],\n",
              "       [7., 7., 7., 7.],\n",
              "       [7., 7., 7., 7.],\n",
              "       [7., 7., 7., 7.]])"
            ]
          },
          "metadata": {
            "tags": []
          },
          "execution_count": 34
        }
      ]
    },
    {
      "cell_type": "code",
      "metadata": {
        "id": "ZI4I4IUl2Cto",
        "colab_type": "code",
        "colab": {
          "base_uri": "https://localhost:8080/",
          "height": 85
        },
        "outputId": "c8567165-9e6b-450c-b22d-0e733fe34433"
      },
      "source": [
        "dist_mat_man = np.zeros((4,4))\n",
        "dist_mat_man"
      ],
      "execution_count": 35,
      "outputs": [
        {
          "output_type": "execute_result",
          "data": {
            "text/plain": [
              "array([[0., 0., 0., 0.],\n",
              "       [0., 0., 0., 0.],\n",
              "       [0., 0., 0., 0.],\n",
              "       [0., 0., 0., 0.]])"
            ]
          },
          "metadata": {
            "tags": []
          },
          "execution_count": 35
        }
      ]
    },
    {
      "cell_type": "code",
      "metadata": {
        "id": "XpOXXBZG2Qgv",
        "colab_type": "code",
        "colab": {
          "base_uri": "https://localhost:8080/",
          "height": 85
        },
        "outputId": "fdc18586-dc81-4a9e-c1a1-cb8c7cc9e168"
      },
      "source": [
        "for i in range(4):\n",
        "    for j in range(4):\n",
        "        dist_mat_man[i,j] = Manhattan_dist(A[i,:],A[j,:])\n",
        "\n",
        "dist_mat_man"
      ],
      "execution_count": 36,
      "outputs": [
        {
          "output_type": "execute_result",
          "data": {
            "text/plain": [
              "array([[0., 5., 3., 6.],\n",
              "       [5., 0., 6., 1.],\n",
              "       [3., 6., 0., 7.],\n",
              "       [6., 1., 7., 0.]])"
            ]
          },
          "metadata": {
            "tags": []
          },
          "execution_count": 36
        }
      ]
    },
    {
      "cell_type": "markdown",
      "metadata": {
        "id": "z8t0gBYjy4ra",
        "colab_type": "text"
      },
      "source": [
        "#HW 6\n",
        "สร้าง Distance metrix (Euclidean) ของ data matrix ใน slides\n",
        "โดยสร้าง function สำหรับคำนวณ Euclidean Distance"
      ]
    },
    {
      "cell_type": "code",
      "metadata": {
        "id": "ivcuPsv25YYx",
        "colab_type": "code",
        "colab": {
          "base_uri": "https://localhost:8080/",
          "height": 85
        },
        "outputId": "c73b34f0-9cce-480f-d0bf-308ba5cb93a9"
      },
      "source": [
        "B = np.array([[1,2],[3,5],[2,0],[4,5]])\n",
        "B"
      ],
      "execution_count": 37,
      "outputs": [
        {
          "output_type": "execute_result",
          "data": {
            "text/plain": [
              "array([[1, 2],\n",
              "       [3, 5],\n",
              "       [2, 0],\n",
              "       [4, 5]])"
            ]
          },
          "metadata": {
            "tags": []
          },
          "execution_count": 37
        }
      ]
    },
    {
      "cell_type": "code",
      "metadata": {
        "id": "y1rNTlV45w0F",
        "colab_type": "code",
        "colab": {}
      },
      "source": [
        "def Euclidean_dist(dp1,dp2):\n",
        "    distX = (dp1[0]-dp2[0])**2\n",
        "    distY = (dp1[1]-dp2[1])**2\n",
        "    return (distX + distY)**(0.5)"
      ],
      "execution_count": 38,
      "outputs": []
    },
    {
      "cell_type": "code",
      "metadata": {
        "id": "tzbMu5w5o97-",
        "colab_type": "code",
        "colab": {
          "base_uri": "https://localhost:8080/",
          "height": 85
        },
        "outputId": "7e43cbb1-d04c-4d10-eb9c-7871d8737dfb"
      },
      "source": [
        "dist_Euclidean = np.zeros((4,4))\n",
        "dist_Euclidean"
      ],
      "execution_count": 39,
      "outputs": [
        {
          "output_type": "execute_result",
          "data": {
            "text/plain": [
              "array([[0., 0., 0., 0.],\n",
              "       [0., 0., 0., 0.],\n",
              "       [0., 0., 0., 0.],\n",
              "       [0., 0., 0., 0.]])"
            ]
          },
          "metadata": {
            "tags": []
          },
          "execution_count": 39
        }
      ]
    },
    {
      "cell_type": "code",
      "metadata": {
        "id": "ZezGj5Mrnxaw",
        "colab_type": "code",
        "colab": {
          "base_uri": "https://localhost:8080/",
          "height": 85
        },
        "outputId": "6b51db0a-085c-4de9-e9db-0389f73cc9cc"
      },
      "source": [
        "for i in range(4):\n",
        "    for j in range(4):\n",
        "        dist_Euclidean[i,j] = Euclidean_dist(B[i,:],B[j,:])\n",
        "\n",
        "dist_Euclidean"
      ],
      "execution_count": 66,
      "outputs": [
        {
          "output_type": "execute_result",
          "data": {
            "text/plain": [
              "array([[0.        , 3.60555128, 2.23606798, 4.24264069],\n",
              "       [3.60555128, 0.        , 5.09901951, 1.        ],\n",
              "       [2.23606798, 5.09901951, 0.        , 5.38516481],\n",
              "       [4.24264069, 1.        , 5.38516481, 0.        ]])"
            ]
          },
          "metadata": {
            "tags": []
          },
          "execution_count": 66
        }
      ]
    },
    {
      "cell_type": "markdown",
      "metadata": {
        "id": "pWjf9GM8dgzG",
        "colab_type": "text"
      },
      "source": [
        "## Distance of nominal or categorical features"
      ]
    },
    {
      "cell_type": "markdown",
      "metadata": {
        "id": "tud1bZSedv1g",
        "colab_type": "text"
      },
      "source": [
        "(extra) Python data structure (Dictionary)\n"
      ]
    },
    {
      "cell_type": "code",
      "metadata": {
        "id": "SiqkfbN4R8HJ",
        "colab_type": "code",
        "colab": {
          "base_uri": "https://localhost:8080/",
          "height": 34
        },
        "outputId": "30aec4ee-2b19-4f63-9341-cf3114aafa4f"
      },
      "source": [
        "d_A = {'a':1,2:3,3:5,'cat':6} #ตัวเลขหน้าเป็นค่า ตัวเลขหลังเป็น Index\n",
        "d_A"
      ],
      "execution_count": 43,
      "outputs": [
        {
          "output_type": "execute_result",
          "data": {
            "text/plain": [
              "{2: 3, 3: 5, 'a': 1, 'cat': 6}"
            ]
          },
          "metadata": {
            "tags": []
          },
          "execution_count": 43
        }
      ]
    },
    {
      "cell_type": "code",
      "metadata": {
        "id": "1jskZpO5eawj",
        "colab_type": "code",
        "colab": {
          "base_uri": "https://localhost:8080/",
          "height": 34
        },
        "outputId": "c8ae6196-cb50-412c-ba1a-a4a9f559f2d1"
      },
      "source": [
        "{2: 3, 3: 5, 'a':1, 'cat': 6} #\n",
        "d_A['cat']"
      ],
      "execution_count": 45,
      "outputs": [
        {
          "output_type": "execute_result",
          "data": {
            "text/plain": [
              "6"
            ]
          },
          "metadata": {
            "tags": []
          },
          "execution_count": 45
        }
      ]
    },
    {
      "cell_type": "code",
      "metadata": {
        "id": "t3Nw9eowe0tz",
        "colab_type": "code",
        "colab": {
          "base_uri": "https://localhost:8080/",
          "height": 34
        },
        "outputId": "a561a22c-4bbd-43cd-8ab7-f830584b11c8"
      },
      "source": [
        "d_A['dog' ]= [1,2,3,4,5]\n",
        "d_A"
      ],
      "execution_count": 47,
      "outputs": [
        {
          "output_type": "execute_result",
          "data": {
            "text/plain": [
              "{2: 3, 3: 5, 'a': 1, 'cat': 6, 'dog': [1, 2, 3, 4, 5]}"
            ]
          },
          "metadata": {
            "tags": []
          },
          "execution_count": 47
        }
      ]
    },
    {
      "cell_type": "code",
      "metadata": {
        "id": "7zJe_5WnfEJn",
        "colab_type": "code",
        "colab": {
          "base_uri": "https://localhost:8080/",
          "height": 34
        },
        "outputId": "f5542161-8f8e-4216-9c25-a5bdfaf502ae"
      },
      "source": [
        "del d_A[2]\n",
        "d_A"
      ],
      "execution_count": 48,
      "outputs": [
        {
          "output_type": "execute_result",
          "data": {
            "text/plain": [
              "{3: 5, 'a': 1, 'cat': 6, 'dog': [1, 2, 3, 4, 5]}"
            ]
          },
          "metadata": {
            "tags": []
          },
          "execution_count": 48
        }
      ]
    },
    {
      "cell_type": "code",
      "metadata": {
        "id": "nfGSRyEOfNA8",
        "colab_type": "code",
        "colab": {}
      },
      "source": [
        "import pandas as pd"
      ],
      "execution_count": 49,
      "outputs": []
    },
    {
      "cell_type": "code",
      "metadata": {
        "id": "d007NUwyft2w",
        "colab_type": "code",
        "colab": {
          "base_uri": "https://localhost:8080/",
          "height": 34
        },
        "outputId": "5e5f9478-0f97-4a4d-8cba-195ac853ef46"
      },
      "source": [
        "data_dict = {'color':['red','red','green'], #color = {'red', 'green', 'blue'}\n",
        "                   'status':['single', 'married', 'single']} #status ={single', 'married', 'divorced'}\n",
        "data_dict"
      ],
      "execution_count": 50,
      "outputs": [
        {
          "output_type": "execute_result",
          "data": {
            "text/plain": [
              "{'color': ['red', 'red', 'green'], 'status': ['single', 'married', 'single']}"
            ]
          },
          "metadata": {
            "tags": []
          },
          "execution_count": 50
        }
      ]
    },
    {
      "cell_type": "code",
      "metadata": {
        "id": "JA1qI6afg3I7",
        "colab_type": "code",
        "colab": {
          "base_uri": "https://localhost:8080/",
          "height": 142
        },
        "outputId": "f03b8aca-aa31-43be-8471-0085c7a7a4a9"
      },
      "source": [
        "data_pd = pd.DataFrame.from_dict(data_dict)\n",
        "data_pd"
      ],
      "execution_count": 52,
      "outputs": [
        {
          "output_type": "execute_result",
          "data": {
            "text/html": [
              "<div>\n",
              "<style scoped>\n",
              "    .dataframe tbody tr th:only-of-type {\n",
              "        vertical-align: middle;\n",
              "    }\n",
              "\n",
              "    .dataframe tbody tr th {\n",
              "        vertical-align: top;\n",
              "    }\n",
              "\n",
              "    .dataframe thead th {\n",
              "        text-align: right;\n",
              "    }\n",
              "</style>\n",
              "<table border=\"1\" class=\"dataframe\">\n",
              "  <thead>\n",
              "    <tr style=\"text-align: right;\">\n",
              "      <th></th>\n",
              "      <th>color</th>\n",
              "      <th>status</th>\n",
              "    </tr>\n",
              "  </thead>\n",
              "  <tbody>\n",
              "    <tr>\n",
              "      <th>0</th>\n",
              "      <td>red</td>\n",
              "      <td>single</td>\n",
              "    </tr>\n",
              "    <tr>\n",
              "      <th>1</th>\n",
              "      <td>red</td>\n",
              "      <td>married</td>\n",
              "    </tr>\n",
              "    <tr>\n",
              "      <th>2</th>\n",
              "      <td>green</td>\n",
              "      <td>single</td>\n",
              "    </tr>\n",
              "  </tbody>\n",
              "</table>\n",
              "</div>"
            ],
            "text/plain": [
              "   color   status\n",
              "0    red   single\n",
              "1    red  married\n",
              "2  green   single"
            ]
          },
          "metadata": {
            "tags": []
          },
          "execution_count": 52
        }
      ]
    },
    {
      "cell_type": "markdown",
      "metadata": {
        "id": "NyvqqWV4hfcU",
        "colab_type": "text"
      },
      "source": [
        "# Categorical feature distance method#1\n",
        "\n",
        "\n",
        "\n"
      ]
    },
    {
      "cell_type": "code",
      "metadata": {
        "id": "crZ8u-wrhscc",
        "colab_type": "code",
        "colab": {
          "base_uri": "https://localhost:8080/",
          "height": 34
        },
        "outputId": "44804026-452a-411b-bcc7-cab7fa50f575"
      },
      "source": [
        "list(data_pd.iloc[1,:]) "
      ],
      "execution_count": 53,
      "outputs": [
        {
          "output_type": "execute_result",
          "data": {
            "text/plain": [
              "['red', 'married']"
            ]
          },
          "metadata": {
            "tags": []
          },
          "execution_count": 53
        }
      ]
    },
    {
      "cell_type": "code",
      "metadata": {
        "id": "OYtcJUWeihhE",
        "colab_type": "code",
        "colab": {}
      },
      "source": [
        "def meth1_dist(data1,data2):\n",
        "     N = 0\n",
        "     print(f' data1 is {data1} and data2 is {data2}')\n",
        "     for i in range(len(data1)):\n",
        "          print(f' feature{i} of data1 is {data1[i]} , feature{i} of data2 is {data2[i]} ' )\n",
        "          if data1[i]  !=  data2[i]:\n",
        "               N = N+1\n",
        "               print(f'     {data1[i]} is not equal {data2[i]} : updated ({N}) ' )\n",
        "          else:\n",
        "               print(f'     {data1[i]} is equal {data2[i]} ' )\n",
        "     return N/len(data1)"
      ],
      "execution_count": 64,
      "outputs": []
    },
    {
      "cell_type": "code",
      "metadata": {
        "id": "rAn_5hw8k2Et",
        "colab_type": "code",
        "colab": {
          "base_uri": "https://localhost:8080/",
          "height": 119
        },
        "outputId": "1103cdbd-fc6f-4d97-9868-8338f15c260a"
      },
      "source": [
        "meth1_dist(list(data_pd.iloc[0,:]),list(data_pd.iloc[1,:]))"
      ],
      "execution_count": 65,
      "outputs": [
        {
          "output_type": "stream",
          "text": [
            " data1 is ['red', 'single'] and data2 is ['red', 'married']\n",
            " feature0 of data1 is red , feature0 of data2 is red \n",
            "     red is equal red \n",
            " feature1 of data1 is single , feature1 of data2 is married \n",
            "     single is not equal married : updated (1) \n"
          ],
          "name": "stdout"
        },
        {
          "output_type": "execute_result",
          "data": {
            "text/plain": [
              "0.5"
            ]
          },
          "metadata": {
            "tags": []
          },
          "execution_count": 65
        }
      ]
    },
    {
      "cell_type": "markdown",
      "metadata": {
        "id": "Pl2yXTp3ma5G",
        "colab_type": "text"
      },
      "source": [
        "### HW7 calculate distance matrix of data_pd using meth1_dist()"
      ]
    },
    {
      "cell_type": "code",
      "metadata": {
        "id": "B7Z5nFMVo53f",
        "colab_type": "code",
        "colab": {
          "base_uri": "https://localhost:8080/",
          "height": 68
        },
        "outputId": "ff7558a0-1479-4f82-a7f8-40e5cc6d7961"
      },
      "source": [
        "dist_Meth1 = np.zeros((3,3))\n",
        "dist_Meth1"
      ],
      "execution_count": 71,
      "outputs": [
        {
          "output_type": "execute_result",
          "data": {
            "text/plain": [
              "array([[0., 0., 0.],\n",
              "       [0., 0., 0.],\n",
              "       [0., 0., 0.]])"
            ]
          },
          "metadata": {
            "tags": []
          },
          "execution_count": 71
        }
      ]
    },
    {
      "cell_type": "code",
      "metadata": {
        "id": "J_Hq6VyrmvpM",
        "colab_type": "code",
        "colab": {
          "base_uri": "https://localhost:8080/",
          "height": 833
        },
        "outputId": "4b2784cc-beef-4a79-ed0d-634e7eceb152"
      },
      "source": [
        "for i in range(3):\n",
        "    for j in range(3):\n",
        "        dist_Meth1[i,j] = meth1_dist(list(data_pd.iloc[i,:]),list(data_pd.iloc[j,:]))\n",
        "\n",
        "dist_Meth1"
      ],
      "execution_count": 78,
      "outputs": [
        {
          "output_type": "stream",
          "text": [
            " data1 is ['red', 'single'] and data2 is ['red', 'single']\n",
            " feature0 of data1 is red , feature0 of data2 is red \n",
            "     red is equal red \n",
            " feature1 of data1 is single , feature1 of data2 is single \n",
            "     single is equal single \n",
            " data1 is ['red', 'single'] and data2 is ['red', 'married']\n",
            " feature0 of data1 is red , feature0 of data2 is red \n",
            "     red is equal red \n",
            " feature1 of data1 is single , feature1 of data2 is married \n",
            "     single is not equal married : updated (1) \n",
            " data1 is ['red', 'single'] and data2 is ['green', 'single']\n",
            " feature0 of data1 is red , feature0 of data2 is green \n",
            "     red is not equal green : updated (1) \n",
            " feature1 of data1 is single , feature1 of data2 is single \n",
            "     single is equal single \n",
            " data1 is ['red', 'married'] and data2 is ['red', 'single']\n",
            " feature0 of data1 is red , feature0 of data2 is red \n",
            "     red is equal red \n",
            " feature1 of data1 is married , feature1 of data2 is single \n",
            "     married is not equal single : updated (1) \n",
            " data1 is ['red', 'married'] and data2 is ['red', 'married']\n",
            " feature0 of data1 is red , feature0 of data2 is red \n",
            "     red is equal red \n",
            " feature1 of data1 is married , feature1 of data2 is married \n",
            "     married is equal married \n",
            " data1 is ['red', 'married'] and data2 is ['green', 'single']\n",
            " feature0 of data1 is red , feature0 of data2 is green \n",
            "     red is not equal green : updated (1) \n",
            " feature1 of data1 is married , feature1 of data2 is single \n",
            "     married is not equal single : updated (2) \n",
            " data1 is ['green', 'single'] and data2 is ['red', 'single']\n",
            " feature0 of data1 is green , feature0 of data2 is red \n",
            "     green is not equal red : updated (1) \n",
            " feature1 of data1 is single , feature1 of data2 is single \n",
            "     single is equal single \n",
            " data1 is ['green', 'single'] and data2 is ['red', 'married']\n",
            " feature0 of data1 is green , feature0 of data2 is red \n",
            "     green is not equal red : updated (1) \n",
            " feature1 of data1 is single , feature1 of data2 is married \n",
            "     single is not equal married : updated (2) \n",
            " data1 is ['green', 'single'] and data2 is ['green', 'single']\n",
            " feature0 of data1 is green , feature0 of data2 is green \n",
            "     green is equal green \n",
            " feature1 of data1 is single , feature1 of data2 is single \n",
            "     single is equal single \n"
          ],
          "name": "stdout"
        },
        {
          "output_type": "execute_result",
          "data": {
            "text/plain": [
              "array([[0. , 0.5, 0.5],\n",
              "       [0.5, 0. , 1. ],\n",
              "       [0.5, 1. , 0. ]])"
            ]
          },
          "metadata": {
            "tags": []
          },
          "execution_count": 78
        }
      ]
    },
    {
      "cell_type": "markdown",
      "metadata": {
        "id": "8Ruz5Nfxrrgc",
        "colab_type": "text"
      },
      "source": [
        "## Categorical feature distance method#2"
      ]
    },
    {
      "cell_type": "code",
      "metadata": {
        "id": "cz9Umsd8rqNZ",
        "colab_type": "code",
        "colab": {
          "base_uri": "https://localhost:8080/",
          "height": 173
        },
        "outputId": "f277129e-0dcd-4c83-dc58-b0483074a0f6"
      },
      "source": [
        "data_dict2 = {'color':['red','red','green','blue'], #color = {'red', 'green', 'blue'}\n",
        "                   'status':['single', 'married', 'single','divorced']} #status ={single', 'married', 'divorced'}\n",
        "data_pd2 = pd.DataFrame.from_dict(data_dict2)\n",
        "data_pd2"
      ],
      "execution_count": 80,
      "outputs": [
        {
          "output_type": "execute_result",
          "data": {
            "text/html": [
              "<div>\n",
              "<style scoped>\n",
              "    .dataframe tbody tr th:only-of-type {\n",
              "        vertical-align: middle;\n",
              "    }\n",
              "\n",
              "    .dataframe tbody tr th {\n",
              "        vertical-align: top;\n",
              "    }\n",
              "\n",
              "    .dataframe thead th {\n",
              "        text-align: right;\n",
              "    }\n",
              "</style>\n",
              "<table border=\"1\" class=\"dataframe\">\n",
              "  <thead>\n",
              "    <tr style=\"text-align: right;\">\n",
              "      <th></th>\n",
              "      <th>color</th>\n",
              "      <th>status</th>\n",
              "    </tr>\n",
              "  </thead>\n",
              "  <tbody>\n",
              "    <tr>\n",
              "      <th>0</th>\n",
              "      <td>red</td>\n",
              "      <td>single</td>\n",
              "    </tr>\n",
              "    <tr>\n",
              "      <th>1</th>\n",
              "      <td>red</td>\n",
              "      <td>married</td>\n",
              "    </tr>\n",
              "    <tr>\n",
              "      <th>2</th>\n",
              "      <td>green</td>\n",
              "      <td>single</td>\n",
              "    </tr>\n",
              "    <tr>\n",
              "      <th>3</th>\n",
              "      <td>blue</td>\n",
              "      <td>divorced</td>\n",
              "    </tr>\n",
              "  </tbody>\n",
              "</table>\n",
              "</div>"
            ],
            "text/plain": [
              "   color    status\n",
              "0    red    single\n",
              "1    red   married\n",
              "2  green    single\n",
              "3   blue  divorced"
            ]
          },
          "metadata": {
            "tags": []
          },
          "execution_count": 80
        }
      ]
    },
    {
      "cell_type": "code",
      "metadata": {
        "id": "gf_QdzJitCv4",
        "colab_type": "code",
        "colab": {
          "base_uri": "https://localhost:8080/",
          "height": 142
        },
        "outputId": "c394360a-44ad-4159-ac8a-25a262aec356"
      },
      "source": [
        "data_pd_binary = pd.get_dummies(data_pd2)\n",
        "data_pd_binary = data_pd_binary.iloc[:3,:]\n",
        "data_pd_binary"
      ],
      "execution_count": 81,
      "outputs": [
        {
          "output_type": "execute_result",
          "data": {
            "text/html": [
              "<div>\n",
              "<style scoped>\n",
              "    .dataframe tbody tr th:only-of-type {\n",
              "        vertical-align: middle;\n",
              "    }\n",
              "\n",
              "    .dataframe tbody tr th {\n",
              "        vertical-align: top;\n",
              "    }\n",
              "\n",
              "    .dataframe thead th {\n",
              "        text-align: right;\n",
              "    }\n",
              "</style>\n",
              "<table border=\"1\" class=\"dataframe\">\n",
              "  <thead>\n",
              "    <tr style=\"text-align: right;\">\n",
              "      <th></th>\n",
              "      <th>color_blue</th>\n",
              "      <th>color_green</th>\n",
              "      <th>color_red</th>\n",
              "      <th>status_divorced</th>\n",
              "      <th>status_married</th>\n",
              "      <th>status_single</th>\n",
              "    </tr>\n",
              "  </thead>\n",
              "  <tbody>\n",
              "    <tr>\n",
              "      <th>0</th>\n",
              "      <td>0</td>\n",
              "      <td>0</td>\n",
              "      <td>1</td>\n",
              "      <td>0</td>\n",
              "      <td>0</td>\n",
              "      <td>1</td>\n",
              "    </tr>\n",
              "    <tr>\n",
              "      <th>1</th>\n",
              "      <td>0</td>\n",
              "      <td>0</td>\n",
              "      <td>1</td>\n",
              "      <td>0</td>\n",
              "      <td>1</td>\n",
              "      <td>0</td>\n",
              "    </tr>\n",
              "    <tr>\n",
              "      <th>2</th>\n",
              "      <td>0</td>\n",
              "      <td>1</td>\n",
              "      <td>0</td>\n",
              "      <td>0</td>\n",
              "      <td>0</td>\n",
              "      <td>1</td>\n",
              "    </tr>\n",
              "  </tbody>\n",
              "</table>\n",
              "</div>"
            ],
            "text/plain": [
              "   color_blue  color_green  ...  status_married  status_single\n",
              "0           0            0  ...               0              1\n",
              "1           0            0  ...               1              0\n",
              "2           0            1  ...               0              1\n",
              "\n",
              "[3 rows x 6 columns]"
            ]
          },
          "metadata": {
            "tags": []
          },
          "execution_count": 81
        }
      ]
    },
    {
      "cell_type": "code",
      "metadata": {
        "id": "y_GnMXQutobB",
        "colab_type": "code",
        "colab": {}
      },
      "source": [
        "def binary_sym_dist(data1,data2): \n",
        "      r = 0\n",
        "      s = 0\n",
        "      t = 0\n",
        "      q = 0\n",
        "      for i in range(len(data1)):\n",
        "          print(f' feature{i} of data1 is {data1[i]} , feature{i} of data2 is {data2[i]} ' )\n",
        "          if data1[i]  !=  data2[i]:\n",
        "               if data1[i] == 0:\n",
        "                   s = s + 1\n",
        "               else: \n",
        "                   r = r + 1\n",
        "          else:\n",
        "                if data1[i] == 0:\n",
        "                   t = t + 1\n",
        "                else:\n",
        "                   q = q + 1\n",
        "               \n",
        "      return (r+s)/(r+s+t+q)"
      ],
      "execution_count": 83,
      "outputs": []
    },
    {
      "cell_type": "code",
      "metadata": {
        "id": "TvudW5Xsyalj",
        "colab_type": "code",
        "colab": {
          "base_uri": "https://localhost:8080/",
          "height": 136
        },
        "outputId": "31645e0c-081a-4b91-8bad-32cc24ced620"
      },
      "source": [
        "binary_sym_dist(list(data_pd_binary.iloc[0,:]),list(data_pd_binary.iloc[1,:]))"
      ],
      "execution_count": 85,
      "outputs": [
        {
          "output_type": "stream",
          "text": [
            " feature0 of data1 is 0 , feature0 of data2 is 0 \n",
            " feature1 of data1 is 0 , feature1 of data2 is 0 \n",
            " feature2 of data1 is 1 , feature2 of data2 is 1 \n",
            " feature3 of data1 is 0 , feature3 of data2 is 0 \n",
            " feature4 of data1 is 0 , feature4 of data2 is 1 \n",
            " feature5 of data1 is 1 , feature5 of data2 is 0 \n"
          ],
          "name": "stdout"
        },
        {
          "output_type": "execute_result",
          "data": {
            "text/plain": [
              "0.3333333333333333"
            ]
          },
          "metadata": {
            "tags": []
          },
          "execution_count": 85
        }
      ]
    },
    {
      "cell_type": "markdown",
      "metadata": {
        "id": "R4aYxjqQzCLr",
        "colab_type": "text"
      },
      "source": [
        "### HW8 calculate distance matrix of data_pd_binary using binary_sym_dist()"
      ]
    },
    {
      "cell_type": "code",
      "metadata": {
        "id": "4DSKOo0jzSkO",
        "colab_type": "code",
        "colab": {
          "base_uri": "https://localhost:8080/",
          "height": 68
        },
        "outputId": "e7eaca3a-14f9-4078-9f0c-0b9b4a9efabc"
      },
      "source": [
        "dist_binary_sym = np.zeros((3,3)) #สร้างเมทริกซ์มารองรับค่าที่จะได้\n",
        "dist_binary_sym"
      ],
      "execution_count": 86,
      "outputs": [
        {
          "output_type": "execute_result",
          "data": {
            "text/plain": [
              "array([[0., 0., 0.],\n",
              "       [0., 0., 0.],\n",
              "       [0., 0., 0.]])"
            ]
          },
          "metadata": {
            "tags": []
          },
          "execution_count": 86
        }
      ]
    },
    {
      "cell_type": "code",
      "metadata": {
        "id": "EqqhHbf1zeqf",
        "colab_type": "code",
        "colab": {
          "base_uri": "https://localhost:8080/",
          "height": 986
        },
        "outputId": "1dcefea3-2534-48cf-9c91-93c52b755550"
      },
      "source": [
        "for i in range(3):   #เติมค่าระยะห่าง\n",
        "    for j in range(3): \n",
        "        dist_binary_sym[i,j] = binary_sym_dist(list(data_pd_binary.iloc[i,:]),list(data_pd_binary.iloc[j,:]))\n",
        "\n",
        "dist_binary_sym"
      ],
      "execution_count": 87,
      "outputs": [
        {
          "output_type": "stream",
          "text": [
            " feature0 of data1 is 0 , feature0 of data2 is 0 \n",
            " feature1 of data1 is 0 , feature1 of data2 is 0 \n",
            " feature2 of data1 is 1 , feature2 of data2 is 1 \n",
            " feature3 of data1 is 0 , feature3 of data2 is 0 \n",
            " feature4 of data1 is 0 , feature4 of data2 is 0 \n",
            " feature5 of data1 is 1 , feature5 of data2 is 1 \n",
            " feature0 of data1 is 0 , feature0 of data2 is 0 \n",
            " feature1 of data1 is 0 , feature1 of data2 is 0 \n",
            " feature2 of data1 is 1 , feature2 of data2 is 1 \n",
            " feature3 of data1 is 0 , feature3 of data2 is 0 \n",
            " feature4 of data1 is 0 , feature4 of data2 is 1 \n",
            " feature5 of data1 is 1 , feature5 of data2 is 0 \n",
            " feature0 of data1 is 0 , feature0 of data2 is 0 \n",
            " feature1 of data1 is 0 , feature1 of data2 is 1 \n",
            " feature2 of data1 is 1 , feature2 of data2 is 0 \n",
            " feature3 of data1 is 0 , feature3 of data2 is 0 \n",
            " feature4 of data1 is 0 , feature4 of data2 is 0 \n",
            " feature5 of data1 is 1 , feature5 of data2 is 1 \n",
            " feature0 of data1 is 0 , feature0 of data2 is 0 \n",
            " feature1 of data1 is 0 , feature1 of data2 is 0 \n",
            " feature2 of data1 is 1 , feature2 of data2 is 1 \n",
            " feature3 of data1 is 0 , feature3 of data2 is 0 \n",
            " feature4 of data1 is 1 , feature4 of data2 is 0 \n",
            " feature5 of data1 is 0 , feature5 of data2 is 1 \n",
            " feature0 of data1 is 0 , feature0 of data2 is 0 \n",
            " feature1 of data1 is 0 , feature1 of data2 is 0 \n",
            " feature2 of data1 is 1 , feature2 of data2 is 1 \n",
            " feature3 of data1 is 0 , feature3 of data2 is 0 \n",
            " feature4 of data1 is 1 , feature4 of data2 is 1 \n",
            " feature5 of data1 is 0 , feature5 of data2 is 0 \n",
            " feature0 of data1 is 0 , feature0 of data2 is 0 \n",
            " feature1 of data1 is 0 , feature1 of data2 is 1 \n",
            " feature2 of data1 is 1 , feature2 of data2 is 0 \n",
            " feature3 of data1 is 0 , feature3 of data2 is 0 \n",
            " feature4 of data1 is 1 , feature4 of data2 is 0 \n",
            " feature5 of data1 is 0 , feature5 of data2 is 1 \n",
            " feature0 of data1 is 0 , feature0 of data2 is 0 \n",
            " feature1 of data1 is 1 , feature1 of data2 is 0 \n",
            " feature2 of data1 is 0 , feature2 of data2 is 1 \n",
            " feature3 of data1 is 0 , feature3 of data2 is 0 \n",
            " feature4 of data1 is 0 , feature4 of data2 is 0 \n",
            " feature5 of data1 is 1 , feature5 of data2 is 1 \n",
            " feature0 of data1 is 0 , feature0 of data2 is 0 \n",
            " feature1 of data1 is 1 , feature1 of data2 is 0 \n",
            " feature2 of data1 is 0 , feature2 of data2 is 1 \n",
            " feature3 of data1 is 0 , feature3 of data2 is 0 \n",
            " feature4 of data1 is 0 , feature4 of data2 is 1 \n",
            " feature5 of data1 is 1 , feature5 of data2 is 0 \n",
            " feature0 of data1 is 0 , feature0 of data2 is 0 \n",
            " feature1 of data1 is 1 , feature1 of data2 is 1 \n",
            " feature2 of data1 is 0 , feature2 of data2 is 0 \n",
            " feature3 of data1 is 0 , feature3 of data2 is 0 \n",
            " feature4 of data1 is 0 , feature4 of data2 is 0 \n",
            " feature5 of data1 is 1 , feature5 of data2 is 1 \n"
          ],
          "name": "stdout"
        },
        {
          "output_type": "execute_result",
          "data": {
            "text/plain": [
              "array([[0.        , 0.33333333, 0.33333333],\n",
              "       [0.33333333, 0.        , 0.66666667],\n",
              "       [0.33333333, 0.66666667, 0.        ]])"
            ]
          },
          "metadata": {
            "tags": []
          },
          "execution_count": 87
        }
      ]
    }
  ]
}