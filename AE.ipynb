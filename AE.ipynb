{
  "nbformat": 4,
  "nbformat_minor": 0,
  "metadata": {
    "colab": {
      "name": "Untitled17.ipynb",
      "provenance": [],
      "authorship_tag": "ABX9TyNi7TMvRZOjbgPgdQbdkPdx",
      "include_colab_link": true
    },
    "kernelspec": {
      "name": "python3",
      "display_name": "Python 3"
    },
    "language_info": {
      "name": "python"
    }
  },
  "cells": [
    {
      "cell_type": "markdown",
      "metadata": {
        "id": "view-in-github",
        "colab_type": "text"
      },
      "source": [
        "<a href=\"https://colab.research.google.com/github/Nutsudapenpong/DPDM/blob/master/AE.ipynb\" target=\"_parent\"><img src=\"https://colab.research.google.com/assets/colab-badge.svg\" alt=\"Open In Colab\"/></a>"
      ]
    },
    {
      "cell_type": "code",
      "metadata": {
        "colab": {
          "base_uri": "https://localhost:8080/"
        },
        "id": "behDRrFwF2BN",
        "outputId": "b2972508-fa5a-4081-d8c6-43f9ea0b3888"
      },
      "source": [
        "from google.colab import drive\n",
        "drive.mount('/content/drive')"
      ],
      "execution_count": 1,
      "outputs": [
        {
          "output_type": "stream",
          "name": "stdout",
          "text": [
            "Drive already mounted at /content/drive; to attempt to forcibly remount, call drive.mount(\"/content/drive\", force_remount=True).\n"
          ]
        }
      ]
    },
    {
      "cell_type": "code",
      "metadata": {
        "colab": {
          "base_uri": "https://localhost:8080/"
        },
        "id": "eVAtNqExGO6q",
        "outputId": "78363b36-2957-480d-9fac-61e08bb40283"
      },
      "source": [
        "%cd drive/My Drive/AE"
      ],
      "execution_count": 2,
      "outputs": [
        {
          "output_type": "stream",
          "name": "stdout",
          "text": [
            "/content/drive/My Drive/AE\n"
          ]
        }
      ]
    },
    {
      "cell_type": "code",
      "metadata": {
        "colab": {
          "base_uri": "https://localhost:8080/"
        },
        "id": "FxhWFzIuXsIX",
        "outputId": "449c12d2-b71d-4f31-ad90-c6cb2a87029d"
      },
      "source": [
        "!py -m pip install --user venv"
      ],
      "execution_count": 6,
      "outputs": [
        {
          "output_type": "stream",
          "name": "stdout",
          "text": [
            "/bin/bash: py: command not found\n"
          ]
        }
      ]
    },
    {
      "cell_type": "code",
      "metadata": {
        "colab": {
          "base_uri": "https://localhost:8080/"
        },
        "id": "xHgo4CafHBVm",
        "outputId": "60d107a3-f754-4d8c-9f18-743295f30bc8"
      },
      "source": [
        "%cd /content/drive/My Drive/AE/OD-test\n",
        "!python setup/setup.py"
      ],
      "execution_count": 4,
      "outputs": [
        {
          "output_type": "stream",
          "name": "stdout",
          "text": [
            "/content/drive/My Drive/AE/OD-test\n",
            "Creating environment: /content/drive/My Drive/AE/OD-test/workspace/env\n",
            "Traceback (most recent call last):\n",
            "  File \"setup/setup.py\", line 89, in <module>\n",
            "    setup_workspace()\n",
            "  File \"setup/setup.py\", line 38, in setup_workspace\n",
            "    virtualenv.create_environment(home_dir=env_path, site_packages=False)\n",
            "AttributeError: module 'virtualenv' has no attribute 'create_environment'\n"
          ]
        }
      ]
    }
  ]
}