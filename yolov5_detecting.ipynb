{
  "nbformat": 4,
  "nbformat_minor": 0,
  "metadata": {
    "colab": {
      "name": "Untitled14.ipynb",
      "provenance": [],
      "authorship_tag": "ABX9TyMm14FmQbhpW1P85UfojL72",
      "include_colab_link": true
    },
    "kernelspec": {
      "name": "python3",
      "display_name": "Python 3"
    },
    "language_info": {
      "name": "python"
    }
  },
  "cells": [
    {
      "cell_type": "markdown",
      "metadata": {
        "id": "view-in-github",
        "colab_type": "text"
      },
      "source": [
        "<a href=\"https://colab.research.google.com/github/Nutsudapenpong/DPDM/blob/master/yolov5_detecting.ipynb\" target=\"_parent\"><img src=\"https://colab.research.google.com/assets/colab-badge.svg\" alt=\"Open In Colab\"/></a>"
      ]
    },
    {
      "cell_type": "code",
      "metadata": {
        "colab": {
          "base_uri": "https://localhost:8080/"
        },
        "id": "h8TvdmVtbnWK",
        "outputId": "dddf7a17-d1e2-43ef-c8b1-d3e94703696b"
      },
      "source": [
        "from google.colab import drive\n",
        "drive.mount('/content/drive')"
      ],
      "execution_count": 1,
      "outputs": [
        {
          "output_type": "stream",
          "name": "stdout",
          "text": [
            "Drive already mounted at /content/drive; to attempt to forcibly remount, call drive.mount(\"/content/drive\", force_remount=True).\n"
          ]
        }
      ]
    },
    {
      "cell_type": "code",
      "metadata": {
        "colab": {
          "base_uri": "https://localhost:8080/"
        },
        "id": "92aNA4GPb_Hx",
        "outputId": "494e3f01-9a91-43e7-81dc-8f11fd501399"
      },
      "source": [
        "%cd drive/MyDrive/Parasite"
      ],
      "execution_count": 3,
      "outputs": [
        {
          "output_type": "stream",
          "name": "stdout",
          "text": [
            "/content/drive/MyDrive/Parasite\n"
          ]
        }
      ]
    },
    {
      "cell_type": "code",
      "metadata": {
        "colab": {
          "base_uri": "https://localhost:8080/"
        },
        "id": "aMtb_vhDCKNC",
        "outputId": "dbc76c19-fefa-47c4-d0d7-19cd7913332d"
      },
      "source": [
        "!git clone https://github.com/ultralytics/yolov5"
      ],
      "execution_count": 4,
      "outputs": [
        {
          "output_type": "stream",
          "name": "stdout",
          "text": [
            "Cloning into 'yolov5'...\n",
            "remote: Enumerating objects: 9848, done.\u001b[K\n",
            "remote: Total 9848 (delta 0), reused 0 (delta 0), pack-reused 9848\u001b[K\n",
            "Receiving objects: 100% (9848/9848), 10.18 MiB | 7.26 MiB/s, done.\n",
            "Resolving deltas: 100% (6825/6825), done.\n",
            "Checking out files: 100% (105/105), done.\n"
          ]
        }
      ]
    },
    {
      "cell_type": "code",
      "metadata": {
        "colab": {
          "base_uri": "https://localhost:8080/"
        },
        "id": "hcL8r5b5OnzZ",
        "outputId": "684579fe-8ecb-4666-81d8-7a716d801427"
      },
      "source": [
        "!python yolov5/detect.py --source yolov5/test/images --weights yolov5/runs/train/exp9/weights/best.pt "
      ],
      "execution_count": 7,
      "outputs": [
        {
          "output_type": "stream",
          "name": "stdout",
          "text": [
            "\u001b[34m\u001b[1mdetect: \u001b[0mweights=['yolov5/runs/train/exp9/weights/best.pt'], source=yolov5/test/images, imgsz=[640, 640], conf_thres=0.25, iou_thres=0.45, max_det=1000, device=, view_img=False, save_txt=False, save_conf=False, save_crop=False, nosave=False, classes=None, agnostic_nms=False, augment=False, visualize=False, update=False, project=yolov5/runs/detect, name=exp, exist_ok=False, line_thickness=3, hide_labels=False, hide_conf=False, half=False, dnn=False\n",
            "YOLOv5 🚀 2021-10-31 torch 1.9.0+cu111 CPU\n",
            "\n",
            "Fusing layers... \n",
            "Model Summary: 476 layers, 76157124 parameters, 0 gradients, 110.1 GFLOPs\n",
            "image 1/56 /content/drive/My Drive/Parasite/yolov5/test/images/Ascaris-lumbricoides-fertilized-egg.rf.f698d61a3db4fa6d68ee945f5acc059f.jpg: 640x640 1 Ascaris, Done. (2.235s)\n",
            "image 2/56 /content/drive/My Drive/Parasite/yolov5/test/images/Ascaris_IMG_20191115_171426.rf.d8324efb85c9a236dacac15073c7ca92.jpg: 640x640 2 Ascariss, Done. (2.130s)\n",
            "image 3/56 /content/drive/My Drive/Parasite/yolov5/test/images/Ascaris_IMG_20191115_171734_1.rf.41dafb6348b5ed8f036e53d652cbba7d.jpg: 640x640 1 Ascaris, Done. (2.263s)\n",
            "image 4/56 /content/drive/My Drive/Parasite/yolov5/test/images/Ascaris_IMG_20191115_172535.rf.940500bfd1f3c074e0b892b228cdb110.jpg: 640x640 1 Ascaris, Done. (2.381s)\n",
            "image 5/56 /content/drive/My Drive/Parasite/yolov5/test/images/Echinostoma_IMG_20200131_134239.rf.f992fb6571fb4375a14ff67a74245b53.jpg: 640x640 1 Echinostoma, 1 Ov, Done. (3.518s)\n",
            "image 6/56 /content/drive/My Drive/Parasite/yolov5/test/images/Echinostoma_IMG_20200131_134326.rf.2b72472ec024ae7dd02c21ffc1e30720.jpg: 640x640 1 Echinostoma, Done. (2.480s)\n",
            "image 7/56 /content/drive/My Drive/Parasite/yolov5/test/images/Echinostoma_IMG_20200131_134753.rf.05507caf005802f5258561590bc8ebd1.jpg: 640x640 1 Echinostoma, Done. (2.101s)\n",
            "image 8/56 /content/drive/My Drive/Parasite/yolov5/test/images/Echinostoma_d.rf.0464892c490f18010a7f3b0fb2f53f14.jpg: 640x640 1 Echinostoma, Done. (2.090s)\n",
            "image 9/56 /content/drive/My Drive/Parasite/yolov5/test/images/Echinostoma_o.rf.36ab695b5d3ca828a3333a0e2d9ba2f5.jpg: 640x640 1 Echinostoma, 3 Ovs, Done. (2.097s)\n",
            "image 10/56 /content/drive/My Drive/Parasite/yolov5/test/images/Hookworm_IMG_20200117_095121.rf.f86c3331fdf8cd4620799056d03200e1.jpg: 640x640 Done. (2.084s)\n",
            "image 11/56 /content/drive/My Drive/Parasite/yolov5/test/images/Hookworm_IMG_20200117_095254_1.rf.e15bed9e5502ae2d46f9cb3fcabbca57.jpg: 640x640 1 Hookworm, Done. (2.118s)\n",
            "image 12/56 /content/drive/My Drive/Parasite/yolov5/test/images/Hookworm_IMG_20200117_100138.rf.aa55e50e6348357ca72619ba7faa246d.jpg: 640x640 1 Hookworm, Done. (2.110s)\n",
            "image 13/56 /content/drive/My Drive/Parasite/yolov5/test/images/Hookworm_IMG_20200117_103728.rf.622a1f6e4824ec1f929a457832fea0d2.jpg: 640x640 1 Hookworm, Done. (2.122s)\n",
            "image 14/56 /content/drive/My Drive/Parasite/yolov5/test/images/Hookworm_IMG_20200207_110343.rf.163c9891e62b323b4e0a8da45a069d5b.jpg: 640x640 1 Hookworm, Done. (2.088s)\n",
            "image 15/56 /content/drive/My Drive/Parasite/yolov5/test/images/Mif_IMG_20190722_123005.rf.a181fe981aa7d266343949f250e5c75b.jpg: 640x640 1 Ov, Done. (2.090s)\n",
            "image 16/56 /content/drive/My Drive/Parasite/yolov5/test/images/Mif_IMG_20190722_130821.rf.b9bbd8b00a4964c7d1fcdaab955baa05.jpg: 640x640 1 Ov, Done. (2.106s)\n",
            "image 17/56 /content/drive/My Drive/Parasite/yolov5/test/images/Mif_IMG_20190722_133115.rf.ec2929682e57a860972295ff761eb15d.jpg: 640x640 1 Ov, Done. (2.143s)\n",
            "image 18/56 /content/drive/My Drive/Parasite/yolov5/test/images/Mif_IMG_20190722_133632_1.rf.604bb7a99e8a23369f3754f99fa6097c.jpg: 640x640 1 Ov, Done. (2.092s)\n",
            "image 19/56 /content/drive/My Drive/Parasite/yolov5/test/images/Mif_IMG_20190722_134043.rf.5cdbf3fdd9882a2cf6c46c6cd3414170.jpg: 640x640 1 Ov, Done. (2.105s)\n",
            "image 20/56 /content/drive/My Drive/Parasite/yolov5/test/images/Mif_IMG_20190722_134358.rf.70232544f5cde3f446455685452a573f.jpg: 640x640 1 Ov, Done. (2.121s)\n",
            "image 21/56 /content/drive/My Drive/Parasite/yolov5/test/images/Opisthorchis-viverrini--2-.rf.e71b632e2d5267a7aed62e5a2f324b5e.jpg: 640x640 1 Ov, Done. (2.121s)\n",
            "image 22/56 /content/drive/My Drive/Parasite/yolov5/test/images/Opisthorchis-viverrini-Egg--7-.rf.84430ee1ed35b0ac2656a33704c710d5.jpg: 640x640 2 Ovs, Done. (2.101s)\n",
            "image 23/56 /content/drive/My Drive/Parasite/yolov5/test/images/Opisthorchis-viverrini-egg.rf.1c25312855873ca718b6998070507e90.jpg: 640x640 1 Ov, Done. (2.087s)\n",
            "image 24/56 /content/drive/My Drive/Parasite/yolov5/test/images/Opisthorchis-viverrini-egg.rf.44271754d2e08fcac1d19216cd23d8ab.jpg: 640x640 1 Ov, Done. (2.101s)\n",
            "image 25/56 /content/drive/My Drive/Parasite/yolov5/test/images/Opisthorchis-viverrini.rf.c8d7bdffd740d4a87048f4581f385e87.jpg: 640x640 1 Ov, Done. (2.124s)\n",
            "image 26/56 /content/drive/My Drive/Parasite/yolov5/test/images/Ov_IMG_20190719_152313.rf.99e261027b1e218d669a77de1ac21c1b.jpg: 640x640 1 Ov, Done. (2.127s)\n",
            "image 27/56 /content/drive/My Drive/Parasite/yolov5/test/images/Ov_th4.rf.baff0fa468c5096d4ec5fbedaa43f2af.jpg: 640x640 1 Ov, Done. (2.084s)\n",
            "image 28/56 /content/drive/My Drive/Parasite/yolov5/test/images/Ov_th6.rf.bfbaeb01ce0ae75cab1a13911537cd9e.jpg: 640x640 1 Ov, Done. (2.105s)\n",
            "image 29/56 /content/drive/My Drive/Parasite/yolov5/test/images/Taenia-spp---2-.rf.556616fe8303671d96ac47b2cb11ffc2.jpg: 640x640 1 Taenia, Done. (2.124s)\n",
            "image 30/56 /content/drive/My Drive/Parasite/yolov5/test/images/Taenia-spp--4-.rf.3b44f9b19398802f5cb1fa6adc3f10f1.jpg: 640x640 1 Taenia, Done. (2.205s)\n",
            "image 31/56 /content/drive/My Drive/Parasite/yolov5/test/images/Taenia-spp--9-.rf.35af8c7db2a03c1ea810c9d9341e3171.jpg: 640x640 1 Ov, 2 Taenias, Done. (2.089s)\n",
            "image 32/56 /content/drive/My Drive/Parasite/yolov5/test/images/Taenia-spp-egg.rf.dabd71a5f82f97096546280e5d4978e4.jpg: 640x640 1 Taenia, Done. (2.116s)\n",
            "image 33/56 /content/drive/My Drive/Parasite/yolov5/test/images/Taenia-spp2.rf.3de39807eebe9eae83b851c75ab971f1.jpg: 640x640 1 Taenia, Done. (2.086s)\n",
            "image 34/56 /content/drive/My Drive/Parasite/yolov5/test/images/Taenia.rf.455dd7c8a02053fcc95e89d3bbfb7b2e.jpg: 640x640 1 Taenia, Done. (2.123s)\n",
            "image 35/56 /content/drive/My Drive/Parasite/yolov5/test/images/Taenia_.rf.33a395c8febf85e595eb7aa77c2872b5.jpg: 640x640 1 Taenia, Done. (2.077s)\n",
            "image 36/56 /content/drive/My Drive/Parasite/yolov5/test/images/Taenia_20190517_172458.rf.cdfdfec5641fcb841b69a1ea425fc2c6.jpg: 640x640 1 Taenia, Done. (2.100s)\n",
            "image 37/56 /content/drive/My Drive/Parasite/yolov5/test/images/Taenia_20190517_173434.rf.ea171f3fc56cac02d1067803416eb5c9.jpg: 640x640 1 Taenia, Done. (2.102s)\n",
            "image 38/56 /content/drive/My Drive/Parasite/yolov5/test/images/Taenia_20190517_174238.rf.d227516e5fce93ab465e10765f731b7a.jpg: 640x640 1 Taenia, Done. (2.123s)\n",
            "image 39/56 /content/drive/My Drive/Parasite/yolov5/test/images/Taenia_20190524_165358.rf.adf806c11cf1800533720ebc9444a3c7.jpg: 640x640 1 Taenia, Done. (2.085s)\n",
            "image 40/56 /content/drive/My Drive/Parasite/yolov5/test/images/Taenia_20190524_165855.rf.840639eba6a07243669a9938202e30d9.jpg: 640x640 1 Taenia, Done. (2.082s)\n",
            "image 41/56 /content/drive/My Drive/Parasite/yolov5/test/images/Taenia_20190527_174714.rf.8c2213b96b22d387434acfac419ac640.jpg: 640x640 1 Taenia, Done. (2.090s)\n",
            "image 42/56 /content/drive/My Drive/Parasite/yolov5/test/images/Taenia_20190527_194851.rf.d4d32aeedf7267f0d3c419d5d6d66fe1.jpg: 640x640 1 Taenia, Done. (2.118s)\n",
            "image 43/56 /content/drive/My Drive/Parasite/yolov5/test/images/Taenia_20190527_195017.rf.b61dd0e538e975a57f2c388b068559dd.jpg: 640x640 1 Taenia, Done. (2.099s)\n",
            "image 44/56 /content/drive/My Drive/Parasite/yolov5/test/images/Taenia_IMG_20190722_145833.rf.12f1633e2c9a4f55d8dc04e9c7c59da5.jpg: 640x640 1 Taenia, Done. (2.088s)\n",
            "image 45/56 /content/drive/My Drive/Parasite/yolov5/test/images/Taenia_IMG_20190722_150146.rf.a308a8832122334b8d97714e52879682.jpg: 640x640 1 Taenia, Done. (2.113s)\n",
            "image 46/56 /content/drive/My Drive/Parasite/yolov5/test/images/Taenia_IMG_20190722_150512.rf.d7d3b085813ae6f18803379c61d01acb.jpg: 640x640 1 Taenia, Done. (2.103s)\n",
            "image 47/56 /content/drive/My Drive/Parasite/yolov5/test/images/Taenia_IMG_20190722_151333_1.rf.dd49470986ea07b565d6c28c26c12d4c.jpg: 640x640 1 Taenia, Done. (2.128s)\n",
            "image 48/56 /content/drive/My Drive/Parasite/yolov5/test/images/Taenia_IMG_20190722_152310.rf.06a7b9d44147a65eb882605685bc01f2.jpg: 640x640 1 Taenia, Done. (2.100s)\n",
            "image 49/56 /content/drive/My Drive/Parasite/yolov5/test/images/Taenia_IMG_20190722_152734.rf.2b7dedb427f0b15ef6b62510b75ebd17.jpg: 640x640 1 Taenia, Done. (2.112s)\n",
            "image 50/56 /content/drive/My Drive/Parasite/yolov5/test/images/Taenia_IMG_20190722_152953.rf.1fec970b3ee9fcd2c3c253a2aa945b9b.jpg: 640x640 1 Taenia, Done. (2.110s)\n",
            "image 51/56 /content/drive/My Drive/Parasite/yolov5/test/images/Taenia_IMG_20190722_153455.rf.743d2e4aae587df696ddba25350ad2c6.jpg: 640x640 1 Taenia, Done. (2.089s)\n",
            "image 52/56 /content/drive/My Drive/Parasite/yolov5/test/images/Taenia_IMG_20190722_153531_1.rf.a13daefb345e3a742eeb4c87a089d08f.jpg: 640x640 1 Taenia, Done. (2.101s)\n",
            "image 53/56 /content/drive/My Drive/Parasite/yolov5/test/images/Taenia_IMG_20190722_153844.rf.7c11ef7c15a7dcccb476af6ac9b6aedc.jpg: 640x640 1 Taenia, Done. (2.112s)\n",
            "image 54/56 /content/drive/My Drive/Parasite/yolov5/test/images/Taenia_IMG_20190722_154725.rf.6d88e75e306152b4dcecdac6dfaab8e2.jpg: 640x640 1 Taenia, Done. (2.124s)\n",
            "image 55/56 /content/drive/My Drive/Parasite/yolov5/test/images/Taenia_IMG_20200124_101423.rf.8a70fc66b44901784ec58d0a0b4d9c55.jpg: 640x640 1 Taenia, Done. (2.104s)\n",
            "image 56/56 /content/drive/My Drive/Parasite/yolov5/test/images/Taenia_IMG_20200131_140253.rf.2f6ab6e1d6807a4ee39f67ea2e3d8166.jpg: 640x640 1 Taenia, Done. (2.100s)\n",
            "Speed: 1.8ms pre-process, 2148.7ms inference, 1.4ms NMS per image at shape (1, 3, 640, 640)\n",
            "Results saved to \u001b[1myolov5/runs/detect/exp5\u001b[0m\n"
          ]
        }
      ]
    }
  ]
}