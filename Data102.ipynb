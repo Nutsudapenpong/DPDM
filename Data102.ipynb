{
  "nbformat": 4,
  "nbformat_minor": 0,
  "metadata": {
    "colab": {
      "name": "Data102.ipynb",
      "provenance": [],
      "include_colab_link": true
    },
    "kernelspec": {
      "name": "python3",
      "display_name": "Python 3"
    }
  },
  "cells": [
    {
      "cell_type": "markdown",
      "metadata": {
        "id": "view-in-github",
        "colab_type": "text"
      },
      "source": [
        "<a href=\"https://colab.research.google.com/github/Nutsudapenpong/DPDM/blob/master/Data102.ipynb\" target=\"_parent\"><img src=\"https://colab.research.google.com/assets/colab-badge.svg\" alt=\"Open In Colab\"/></a>"
      ]
    },
    {
      "cell_type": "markdown",
      "metadata": {
        "id": "S0ugtVIEc3t0",
        "colab_type": "text"
      },
      "source": [
        "# Visualization\n",
        "    \n",
        "    - Understanding Matplotlib Functions\n",
        "    - Boxplot\n",
        "    - Scatter\n",
        "    - Plot\n",
        "    - Barchart\n",
        "    - Histogram\n",
        "    - Q-Q plot"
      ]
    },
    {
      "cell_type": "code",
      "metadata": {
        "id": "sJGaruO5cx5Y",
        "colab_type": "code",
        "colab": {
          "base_uri": "https://localhost:8080/",
          "height": 122
        },
        "outputId": "7977744e-ba43-412d-8752-6810a21cb43a"
      },
      "source": [
        "from google.colab import drive\n",
        "drive.mount('/content/drive')"
      ],
      "execution_count": 1,
      "outputs": [
        {
          "output_type": "stream",
          "text": [
            "Go to this URL in a browser: https://accounts.google.com/o/oauth2/auth?client_id=947318989803-6bn6qk8qdgf4n4g3pfee6491hc0brc4i.apps.googleusercontent.com&redirect_uri=urn%3aietf%3awg%3aoauth%3a2.0%3aoob&scope=email%20https%3a%2f%2fwww.googleapis.com%2fauth%2fdocs.test%20https%3a%2f%2fwww.googleapis.com%2fauth%2fdrive%20https%3a%2f%2fwww.googleapis.com%2fauth%2fdrive.photos.readonly%20https%3a%2f%2fwww.googleapis.com%2fauth%2fpeopleapi.readonly&response_type=code\n",
            "\n",
            "Enter your authorization code:\n",
            "··········\n",
            "Mounted at /content/drive\n"
          ],
          "name": "stdout"
        }
      ]
    },
    {
      "cell_type": "code",
      "metadata": {
        "id": "dLPExE7-ewdJ",
        "colab_type": "code",
        "colab": {
          "base_uri": "https://localhost:8080/",
          "height": 204
        },
        "outputId": "5986193b-d5d5-4292-a077-6b9cc451b93d"
      },
      "source": [
        "# import os for file manipulation\n",
        "import os\n",
        "# import pandas for tabular or dataframe management\n",
        "import pandas as pd\n",
        "# create variable for path to the folder that stores our data\n",
        "base_path = '/content/drive/My Drive/DWDM_material'\n",
        "# load data from test.csv to data \n",
        "data = pd.read_csv(os.path.join(base_path, 'test.csv'))\n",
        "# Show head of the data table\n",
        "data.head()"
      ],
      "execution_count": 2,
      "outputs": [
        {
          "output_type": "execute_result",
          "data": {
            "text/html": [
              "<div>\n",
              "<style scoped>\n",
              "    .dataframe tbody tr th:only-of-type {\n",
              "        vertical-align: middle;\n",
              "    }\n",
              "\n",
              "    .dataframe tbody tr th {\n",
              "        vertical-align: top;\n",
              "    }\n",
              "\n",
              "    .dataframe thead th {\n",
              "        text-align: right;\n",
              "    }\n",
              "</style>\n",
              "<table border=\"1\" class=\"dataframe\">\n",
              "  <thead>\n",
              "    <tr style=\"text-align: right;\">\n",
              "      <th></th>\n",
              "      <th>Unnamed: 0</th>\n",
              "      <th>x</th>\n",
              "      <th>y</th>\n",
              "    </tr>\n",
              "  </thead>\n",
              "  <tbody>\n",
              "    <tr>\n",
              "      <th>0</th>\n",
              "      <td>0</td>\n",
              "      <td>55.3846</td>\n",
              "      <td>97.1795</td>\n",
              "    </tr>\n",
              "    <tr>\n",
              "      <th>1</th>\n",
              "      <td>1</td>\n",
              "      <td>51.5385</td>\n",
              "      <td>96.0256</td>\n",
              "    </tr>\n",
              "    <tr>\n",
              "      <th>2</th>\n",
              "      <td>2</td>\n",
              "      <td>46.1538</td>\n",
              "      <td>94.4872</td>\n",
              "    </tr>\n",
              "    <tr>\n",
              "      <th>3</th>\n",
              "      <td>3</td>\n",
              "      <td>42.8205</td>\n",
              "      <td>91.4103</td>\n",
              "    </tr>\n",
              "    <tr>\n",
              "      <th>4</th>\n",
              "      <td>4</td>\n",
              "      <td>40.7692</td>\n",
              "      <td>88.3333</td>\n",
              "    </tr>\n",
              "  </tbody>\n",
              "</table>\n",
              "</div>"
            ],
            "text/plain": [
              "   Unnamed: 0        x        y\n",
              "0           0  55.3846  97.1795\n",
              "1           1  51.5385  96.0256\n",
              "2           2  46.1538  94.4872\n",
              "3           3  42.8205  91.4103\n",
              "4           4  40.7692  88.3333"
            ]
          },
          "metadata": {
            "tags": []
          },
          "execution_count": 2
        }
      ]
    },
    {
      "cell_type": "markdown",
      "metadata": {
        "id": "7bN4Vl0ShmbW",
        "colab_type": "text"
      },
      "source": [
        "### Boxplot"
      ]
    },
    {
      "cell_type": "code",
      "metadata": {
        "id": "mx64WSaQhfkK",
        "colab_type": "code",
        "colab": {}
      },
      "source": [
        "# import library for drawing graph and rename it as plt\n",
        "from matplotlib import pyplot as plt"
      ],
      "execution_count": 3,
      "outputs": []
    },
    {
      "cell_type": "code",
      "metadata": {
        "id": "BW91kkbnlJJE",
        "colab_type": "code",
        "colab": {
          "base_uri": "https://localhost:8080/",
          "height": 401
        },
        "outputId": "65d4e8bf-89d0-44a9-cde4-b77d2d8f00bc"
      },
      "source": [
        "# เอาแค่แกน x ของข้อมูลมา\n",
        "plt.boxplot(data['x'])"
      ],
      "execution_count": 4,
      "outputs": [
        {
          "output_type": "execute_result",
          "data": {
            "text/plain": [
              "{'boxes': [<matplotlib.lines.Line2D at 0x7ff27a157630>],\n",
              " 'caps': [<matplotlib.lines.Line2D at 0x7ff27a16e080>,\n",
              "  <matplotlib.lines.Line2D at 0x7ff27a16e400>],\n",
              " 'fliers': [<matplotlib.lines.Line2D at 0x7ff27a16eb00>],\n",
              " 'means': [],\n",
              " 'medians': [<matplotlib.lines.Line2D at 0x7ff27a16e780>],\n",
              " 'whiskers': [<matplotlib.lines.Line2D at 0x7ff27a157940>,\n",
              "  <matplotlib.lines.Line2D at 0x7ff27a157cc0>]}"
            ]
          },
          "metadata": {
            "tags": []
          },
          "execution_count": 4
        },
        {
          "output_type": "display_data",
          "data": {
            "image/png": "[encoded data removed]",
            "text/plain": [
              "<Figure size 432x288 with 1 Axes>"
            ]
          },
          "metadata": {
            "tags": [],
            "needs_background": "light"
          }
        }
      ]
    },
    {
      "cell_type": "code",
      "metadata": {
        "id": "0poOfE2dlwUt",
        "colab_type": "code",
        "colab": {
          "base_uri": "https://localhost:8080/",
          "height": 401
        },
        "outputId": "6000ad01-807f-4f06-823a-b999aeab72bf"
      },
      "source": [
        "# แสดงค่า mean\n",
        "plt.boxplot(data['x'],showmeans=True)"
      ],
      "execution_count": 5,
      "outputs": [
        {
          "output_type": "execute_result",
          "data": {
            "text/plain": [
              "{'boxes': [<matplotlib.lines.Line2D at 0x7ff27a0fbc88>],\n",
              " 'caps': [<matplotlib.lines.Line2D at 0x7ff279c3c6d8>,\n",
              "  <matplotlib.lines.Line2D at 0x7ff279c3ca58>],\n",
              " 'fliers': [<matplotlib.lines.Line2D at 0x7ff279c494e0>],\n",
              " 'means': [<matplotlib.lines.Line2D at 0x7ff279c49198>],\n",
              " 'medians': [<matplotlib.lines.Line2D at 0x7ff279c3cdd8>],\n",
              " 'whiskers': [<matplotlib.lines.Line2D at 0x7ff27a0fbf98>,\n",
              "  <matplotlib.lines.Line2D at 0x7ff279c3c358>]}"
            ]
          },
          "metadata": {
            "tags": []
          },
          "execution_count": 5
        },
        {
          "output_type": "display_data",
          "data": {
            "image/png": "[encoded data removed]",
            "text/plain": [
              "<Figure size 432x288 with 1 Axes>"
            ]
          },
          "metadata": {
            "tags": [],
            "needs_background": "light"
          }
        }
      ]
    },
    {
      "cell_type": "code",
      "metadata": {
        "id": "N7-a_bnwmpjn",
        "colab_type": "code",
        "colab": {
          "base_uri": "https://localhost:8080/",
          "height": 401
        },
        "outputId": "3a5d87dd-728c-4aa4-e251-a894a7d6ac14"
      },
      "source": [
        "# เปลี่ยนค่า Iqr\n",
        "plt.boxplot(data['x'],whis=0.8)"
      ],
      "execution_count": 6,
      "outputs": [
        {
          "output_type": "execute_result",
          "data": {
            "text/plain": [
              "{'boxes': [<matplotlib.lines.Line2D at 0x7ff27a0dd828>],\n",
              " 'caps': [<matplotlib.lines.Line2D at 0x7ff279c6da20>,\n",
              "  <matplotlib.lines.Line2D at 0x7ff279c6dcc0>],\n",
              " 'fliers': [<matplotlib.lines.Line2D at 0x7ff27a13f860>],\n",
              " 'means': [],\n",
              " 'medians': [<matplotlib.lines.Line2D at 0x7ff279c03c88>],\n",
              " 'whiskers': [<matplotlib.lines.Line2D at 0x7ff279c49f60>,\n",
              "  <matplotlib.lines.Line2D at 0x7ff279c6d6a0>]}"
            ]
          },
          "metadata": {
            "tags": []
          },
          "execution_count": 6
        },
        {
          "output_type": "display_data",
          "data": {
            "image/png": "[encoded data removed]",
            "text/plain": [
              "<Figure size 432x288 with 1 Axes>"
            ]
          },
          "metadata": {
            "tags": [],
            "needs_background": "light"
          }
        }
      ]
    },
    {
      "cell_type": "code",
      "metadata": {
        "id": "YspEgsfYnt7w",
        "colab_type": "code",
        "colab": {
          "base_uri": "https://localhost:8080/",
          "height": 401
        },
        "outputId": "9ac4fff6-d1a7-4ab6-b802-812505a9e073"
      },
      "source": [
        "# เปลี่ยนแนวกราฟ\n",
        "plt.boxplot(data['x'],whis=0.8,vert=False)"
      ],
      "execution_count": 7,
      "outputs": [
        {
          "output_type": "execute_result",
          "data": {
            "text/plain": [
              "{'boxes': [<matplotlib.lines.Line2D at 0x7ff279b917f0>],\n",
              " 'caps': [<matplotlib.lines.Line2D at 0x7ff279b9f240>,\n",
              "  <matplotlib.lines.Line2D at 0x7ff279b9f5c0>],\n",
              " 'fliers': [<matplotlib.lines.Line2D at 0x7ff279b9fcc0>],\n",
              " 'means': [],\n",
              " 'medians': [<matplotlib.lines.Line2D at 0x7ff279b9f940>],\n",
              " 'whiskers': [<matplotlib.lines.Line2D at 0x7ff279b91b00>,\n",
              "  <matplotlib.lines.Line2D at 0x7ff279b91e80>]}"
            ]
          },
          "metadata": {
            "tags": []
          },
          "execution_count": 7
        },
        {
          "output_type": "display_data",
          "data": {
            "image/png": "[encoded data removed]",
            "text/plain": [
              "<Figure size 432x288 with 1 Axes>"
            ]
          },
          "metadata": {
            "tags": [],
            "needs_background": "light"
          }
        }
      ]
    },
    {
      "cell_type": "code",
      "metadata": {
        "id": "4UE0blR8pHuT",
        "colab_type": "code",
        "colab": {
          "base_uri": "https://localhost:8080/",
          "height": 265
        },
        "outputId": "fc0cc585-100a-4706-e182-1b5213c7693d"
      },
      "source": [
        "#return ค่าออกมาแค่กราฟ ไม่มีตัวอหนังสือเยอะๆ\n",
        "ret = plt.boxplot(data['x'],whis=0.8,vert=False)"
      ],
      "execution_count": 8,
      "outputs": [
        {
          "output_type": "display_data",
          "data": {
            "image/png": "[encoded data removed]",
            "text/plain": [
              "<Figure size 432x288 with 1 Axes>"
            ]
          },
          "metadata": {
            "tags": [],
            "needs_background": "light"
          }
        }
      ]
    },
    {
      "cell_type": "code",
      "metadata": {
        "id": "lC10cj51pitB",
        "colab_type": "code",
        "colab": {
          "base_uri": "https://localhost:8080/",
          "height": 153
        },
        "outputId": "be190292-296a-4e85-b4fc-803f4f290dfe"
      },
      "source": [
        "ret"
      ],
      "execution_count": 9,
      "outputs": [
        {
          "output_type": "execute_result",
          "data": {
            "text/plain": [
              "{'boxes': [<matplotlib.lines.Line2D at 0x7ff279afb828>],\n",
              " 'caps': [<matplotlib.lines.Line2D at 0x7ff279b0a278>,\n",
              "  <matplotlib.lines.Line2D at 0x7ff279b0a5f8>],\n",
              " 'fliers': [<matplotlib.lines.Line2D at 0x7ff279b0acf8>],\n",
              " 'means': [],\n",
              " 'medians': [<matplotlib.lines.Line2D at 0x7ff279b0a978>],\n",
              " 'whiskers': [<matplotlib.lines.Line2D at 0x7ff279afbb38>,\n",
              "  <matplotlib.lines.Line2D at 0x7ff279afbeb8>]}"
            ]
          },
          "metadata": {
            "tags": []
          },
          "execution_count": 9
        }
      ]
    },
    {
      "cell_type": "code",
      "metadata": {
        "id": "gaDhkhXcpmY5",
        "colab_type": "code",
        "colab": {
          "base_uri": "https://localhost:8080/",
          "height": 34
        },
        "outputId": "c8c1193e-12a8-44f8-9c8f-65f25c8db07a"
      },
      "source": [
        "# เรียกแค่ fliers ที่ matplotlib.lines.Line2D เป็นฟังก์ชันของข้อมูล\n",
        "ret['fliers']"
      ],
      "execution_count": 10,
      "outputs": [
        {
          "output_type": "execute_result",
          "data": {
            "text/plain": [
              "[<matplotlib.lines.Line2D at 0x7ff279b0acf8>]"
            ]
          },
          "metadata": {
            "tags": []
          },
          "execution_count": 10
        }
      ]
    },
    {
      "cell_type": "code",
      "metadata": {
        "id": "_99xDv_3qrDf",
        "colab_type": "code",
        "colab": {
          "base_uri": "https://localhost:8080/",
          "height": 34
        },
        "outputId": "932715ff-20fe-4e4a-f43f-a591f1eae79a"
      },
      "source": [
        "# เห็นเป็น list เลยเอา [0] ใส่\n",
        "ret['fliers'][0]"
      ],
      "execution_count": 11,
      "outputs": [
        {
          "output_type": "execute_result",
          "data": {
            "text/plain": [
              "<matplotlib.lines.Line2D at 0x7ff279b0acf8>"
            ]
          },
          "metadata": {
            "tags": []
          },
          "execution_count": 11
        }
      ]
    },
    {
      "cell_type": "code",
      "metadata": {
        "id": "GNsFoomyq29K",
        "colab_type": "code",
        "colab": {
          "base_uri": "https://localhost:8080/",
          "height": 68
        },
        "outputId": "d12133dd-3203-48e5-a4d4-d70566c9c4ed"
      },
      "source": [
        "# เอาค่า outliers ออกมาเป็นแนวนอนแกน x\n",
        "ret['fliers'][0].get_xdata()"
      ],
      "execution_count": 12,
      "outputs": [
        {
          "output_type": "execute_result",
          "data": {
            "text/plain": [
              "array([26.1538, 23.0769, 22.3077, 22.3077, 23.3333, 25.8974, 81.7949,\n",
              "       83.3333, 85.1282, 86.4103, 87.9487, 89.4872, 93.3333, 95.3846,\n",
              "       98.2051, 91.2821])"
            ]
          },
          "metadata": {
            "tags": []
          },
          "execution_count": 12
        }
      ]
    },
    {
      "cell_type": "code",
      "metadata": {
        "id": "vbFZq3eTrXxq",
        "colab_type": "code",
        "colab": {
          "base_uri": "https://localhost:8080/",
          "height": 34
        },
        "outputId": "628f481d-7f65-4a44-b363-e00aa282eddd"
      },
      "source": [
        "# ค่า min กับ max \n",
        "ret['whiskers'][0].get_xdata()"
      ],
      "execution_count": 13,
      "outputs": [
        {
          "output_type": "execute_result",
          "data": {
            "text/plain": [
              "array([44.1026, 28.9744])"
            ]
          },
          "metadata": {
            "tags": []
          },
          "execution_count": 13
        }
      ]
    },
    {
      "cell_type": "code",
      "metadata": {
        "id": "RY6Bn-yOsDoW",
        "colab_type": "code",
        "colab": {
          "base_uri": "https://localhost:8080/",
          "height": 34
        },
        "outputId": "e0ad4721-cc01-438e-a00b-d58cd9326e8a"
      },
      "source": [
        "# เรียกค่า quartiles ออกมา\n",
        "ret['boxes'][0].get_xdata()"
      ],
      "execution_count": 14,
      "outputs": [
        {
          "output_type": "execute_result",
          "data": {
            "text/plain": [
              "array([44.1026, 44.1026, 64.7436, 64.7436, 44.1026])"
            ]
          },
          "metadata": {
            "tags": []
          },
          "execution_count": 14
        }
      ]
    },
    {
      "cell_type": "markdown",
      "metadata": {
        "id": "txTPzAF7uMj2",
        "colab_type": "text"
      },
      "source": [
        "### Scatter"
      ]
    },
    {
      "cell_type": "code",
      "metadata": {
        "id": "k7RYSBzRsvQF",
        "colab_type": "code",
        "colab": {
          "base_uri": "https://localhost:8080/",
          "height": 282
        },
        "outputId": "45d07b66-61a0-41d6-cd03-a57afd8c929a"
      },
      "source": [
        "plt.scatter(data['x'],data['y'])"
      ],
      "execution_count": 15,
      "outputs": [
        {
          "output_type": "execute_result",
          "data": {
            "text/plain": [
              "<matplotlib.collections.PathCollection at 0x7ff279ae7ac8>"
            ]
          },
          "metadata": {
            "tags": []
          },
          "execution_count": 15
        },
        {
          "output_type": "display_data",
          "data": {
            "image/png": "[encoded data removed]",
            "text/plain": [
              "<Figure size 432x288 with 1 Axes>"
            ]
          },
          "metadata": {
            "tags": [],
            "needs_background": "light"
          }
        }
      ]
    },
    {
      "cell_type": "code",
      "metadata": {
        "id": "akg-I-0_uZXk",
        "colab_type": "code",
        "colab": {
          "base_uri": "https://localhost:8080/",
          "height": 282
        },
        "outputId": "6948f8ad-9838-40ac-bafc-4d5f5037a6eb"
      },
      "source": [
        "#เปลี่ยนรูปร่างของจุด\n",
        "plt.scatter(data['x'],data['y'],s=10)"
      ],
      "execution_count": 16,
      "outputs": [
        {
          "output_type": "execute_result",
          "data": {
            "text/plain": [
              "<matplotlib.collections.PathCollection at 0x7ff279a57eb8>"
            ]
          },
          "metadata": {
            "tags": []
          },
          "execution_count": 16
        },
        {
          "output_type": "display_data",
          "data": {
            "image/png": "[encoded data removed]",
            "text/plain": [
              "<Figure size 432x288 with 1 Axes>"
            ]
          },
          "metadata": {
            "tags": [],
            "needs_background": "light"
          }
        }
      ]
    },
    {
      "cell_type": "code",
      "metadata": {
        "id": "PoAo_tj_vCEB",
        "colab_type": "code",
        "colab": {
          "base_uri": "https://localhost:8080/",
          "height": 282
        },
        "outputId": "7a01ffa3-a291-41da-89ac-adeea4b6e4bb"
      },
      "source": [
        "#เปลี่ยนสีของจุด ด้วยตัวอักษรเริ่มต้นของสี\n",
        "plt.scatter(data['x'],data['y'],c='y')"
      ],
      "execution_count": 17,
      "outputs": [
        {
          "output_type": "execute_result",
          "data": {
            "text/plain": [
              "<matplotlib.collections.PathCollection at 0x7ff2799cd320>"
            ]
          },
          "metadata": {
            "tags": []
          },
          "execution_count": 17
        },
        {
          "output_type": "display_data",
          "data": {
            "image/png": "[encoded data removed]",
            "text/plain": [
              "<Figure size 432x288 with 1 Axes>"
            ]
          },
          "metadata": {
            "tags": [],
            "needs_background": "light"
          }
        }
      ]
    },
    {
      "cell_type": "code",
      "metadata": {
        "id": "VoJaRGbrvofc",
        "colab_type": "code",
        "colab": {
          "base_uri": "https://localhost:8080/",
          "height": 282
        },
        "outputId": "ffcce185-f41a-4f81-c637-f62ec920c480"
      },
      "source": [
        "#เปลี่ยนรูปแบบของจุด\n",
        "plt.scatter(data['x'],data['y'],s=100,c='y',marker='*')"
      ],
      "execution_count": 18,
      "outputs": [
        {
          "output_type": "execute_result",
          "data": {
            "text/plain": [
              "<matplotlib.collections.PathCollection at 0x7ff2799b0860>"
            ]
          },
          "metadata": {
            "tags": []
          },
          "execution_count": 18
        },
        {
          "output_type": "display_data",
          "data": {
            "image/png": "[encoded data removed]",
            "text/plain": [
              "<Figure size 432x288 with 1 Axes>"
            ]
          },
          "metadata": {
            "tags": [],
            "needs_background": "light"
          }
        }
      ]
    },
    {
      "cell_type": "code",
      "metadata": {
        "id": "ZQoPo48Bwn5k",
        "colab_type": "code",
        "colab": {
          "base_uri": "https://localhost:8080/",
          "height": 282
        },
        "outputId": "65ede279-dbe5-4eca-8f0e-aed52ef147d0"
      },
      "source": [
        "# ความโปร่งแสง alpha ยิ่งน้อยยิ่งโปร่งแสง\n",
        "plt.scatter(data['x'],data['y'],s=100,c='y',marker='*',alpha=0.4)"
      ],
      "execution_count": 19,
      "outputs": [
        {
          "output_type": "execute_result",
          "data": {
            "text/plain": [
              "<matplotlib.collections.PathCollection at 0x7ff279919d30>"
            ]
          },
          "metadata": {
            "tags": []
          },
          "execution_count": 19
        },
        {
          "output_type": "display_data",
          "data": {
            "image/png": "[encoded data removed]",
            "text/plain": [
              "<Figure size 432x288 with 1 Axes>"
            ]
          },
          "metadata": {
            "tags": [],
            "needs_background": "light"
          }
        }
      ]
    },
    {
      "cell_type": "code",
      "metadata": {
        "id": "q1DTV6I5xEM6",
        "colab_type": "code",
        "colab": {
          "base_uri": "https://localhost:8080/",
          "height": 282
        },
        "outputId": "aded6b46-dfb9-4162-c2e2-8f18614c697e"
      },
      "source": [
        "# ใส่ข้อมูลทับกันสองอัน\n",
        "plt.scatter(data['x'],data['y'],s=100,c='y',marker='*',alpha=0.4)\n",
        "plt.scatter([30,40],[60,80],s=100,c='b',marker='d',alpha=0.2)"
      ],
      "execution_count": 20,
      "outputs": [
        {
          "output_type": "execute_result",
          "data": {
            "text/plain": [
              "<matplotlib.collections.PathCollection at 0x7ff279886940>"
            ]
          },
          "metadata": {
            "tags": []
          },
          "execution_count": 20
        },
        {
          "output_type": "display_data",
          "data": {
            "image/png": "[encoded data removed]",
            "text/plain": [
              "<Figure size 432x288 with 1 Axes>"
            ]
          },
          "metadata": {
            "tags": [],
            "needs_background": "light"
          }
        }
      ]
    },
    {
      "cell_type": "markdown",
      "metadata": {
        "id": "gKlPQvTFx8-f",
        "colab_type": "text"
      },
      "source": [
        "HW plot นอ ให้ไดโนเสาร์"
      ]
    },
    {
      "cell_type": "code",
      "metadata": {
        "id": "N0bzF-4BtbM_",
        "colab_type": "code",
        "colab": {
          "base_uri": "https://localhost:8080/",
          "height": 282
        },
        "outputId": "e699f57b-87cb-4d19-97e1-d0ff58bee3be"
      },
      "source": [
        "plt.scatter(data['x'],data['y'],s=100,c='y',marker='*')\n",
        "plt.scatter([25,25.3,25.6,25.7,27.6,29.9,32.5],[75,80,85,90,87,85,82],s=100,c='m',marker='*')\n",
        "plt.scatter([30,30,31,32,33,34,34,34,34,35,36,36,33],[36,39,39,39,36,39,39,39,39,39,39,36,38],s=100,c='m',marker='.')"
      ],
      "execution_count": 77,
      "outputs": [
        {
          "output_type": "execute_result",
          "data": {
            "text/plain": [
              "<matplotlib.collections.PathCollection at 0x7ff2780385c0>"
            ]
          },
          "metadata": {
            "tags": []
          },
          "execution_count": 77
        },
        {
          "output_type": "display_data",
          "data": {
            "image/png": "[encoded data removed]",
            "text/plain": [
              "<Figure size 432x288 with 1 Axes>"
            ]
          },
          "metadata": {
            "tags": [],
            "needs_background": "light"
          }
        }
      ]
    }
  ]
}