{
  "nbformat": 4,
  "nbformat_minor": 0,
  "metadata": {
    "colab": {
      "name": "Untitled4.ipynb",
      "provenance": [],
      "mount_file_id": "1erVPFl-edOSaBWYKo1d-oafauDc9aDSX",
      "authorship_tag": "ABX9TyODskWj5MRO3X2eQ/pXrs8J",
      "include_colab_link": true
    },
    "kernelspec": {
      "name": "python3",
      "display_name": "Python 3"
    },
    "language_info": {
      "name": "python"
    },
    "accelerator": "GPU"
  },
  "cells": [
    {
      "cell_type": "markdown",
      "metadata": {
        "id": "view-in-github",
        "colab_type": "text"
      },
      "source": [
        "<a href=\"https://colab.research.google.com/github/Nutsudapenpong/DPDM/blob/master/labelme.ipynb\" target=\"_parent\"><img src=\"https://colab.research.google.com/assets/colab-badge.svg\" alt=\"Open In Colab\"/></a>"
      ]
    },
    {
      "cell_type": "code",
      "metadata": {
        "colab": {
          "base_uri": "https://localhost:8080/",
          "height": 1000
        },
        "id": "nVUfRF2uRKF6",
        "outputId": "c775e580-e829-416e-c53b-1e8a0c714d9d"
      },
      "source": [
        "!pip install -q condacolab\n",
        "import condacolab\n",
        "condacolab.install()\n",
        "!conda create --name=labelme python=3.6\n",
        "!source activate labelme\n",
        "!pip install labelme\n",
        "!git clone https://github.com/wkentaro/labelme.git\n",
        "!pip install pycocotools"
      ],
      "execution_count": 1,
      "outputs": [
        {
          "output_type": "stream",
          "name": "stdout",
          "text": [
            "⏬ Downloading https://github.com/jaimergp/miniforge/releases/latest/download/Mambaforge-colab-Linux-x86_64.sh...\n",
            "📦 Installing...\n",
            "📌 Adjusting configuration...\n",
            "🩹 Patching environment...\n",
            "⏲ Done in 0:00:36\n",
            "🔁 Restarting kernel...\n",
            "Collecting package metadata (current_repodata.json): - \b\b\\ \b\b| \b\b/ \b\b- \b\b\\ \b\b| \b\b/ \b\b- \b\b\\ \b\b| \b\b/ \b\b- \b\b\\ \b\b| \b\b/ \b\b- \b\b\\ \b\b| \b\b/ \b\b- \b\b\\ \b\b| \b\b/ \b\b- \b\b\\ \b\b| \b\b/ \b\b- \b\b\\ \b\b| \b\b/ \b\b- \b\b\\ \b\b| \b\b/ \b\b- \b\b\\ \b\b| \b\b/ \b\b- \b\b\\ \b\b| \b\b/ \b\b- \b\b\\ \b\b| \b\b/ \b\b- \b\b\\ \b\b| \b\b/ \b\b- \b\b\\ \b\b| \b\b/ \b\b- \b\b\\ \b\b| \b\b/ \b\b- \b\b\\ \b\b| \b\b/ \b\b- \b\b\\ \b\b| \b\b/ \b\b- \b\b\\ \b\b| \b\b/ \b\b- \b\b\\ \b\b| \b\b/ \b\b- \b\b\\ \b\b| \b\bdone\n",
            "Solving environment: - \b\b\\ \b\b| \b\b/ \b\bdone\n",
            "\n",
            "\n",
            "==> WARNING: A newer version of conda exists. <==\n",
            "  current version: 4.9.2\n",
            "  latest version: 4.10.3\n",
            "\n",
            "Please update conda by running\n",
            "\n",
            "    $ conda update -n base conda\n",
            "\n",
            "\n",
            "\n",
            "## Package Plan ##\n",
            "\n",
            "  environment location: /usr/local/envs/labelme\n",
            "\n",
            "  added / updated specs:\n",
            "    - python=3.6\n",
            "\n",
            "\n",
            "The following packages will be downloaded:\n",
            "\n",
            "    package                    |            build\n",
            "    ---------------------------|-----------------\n",
            "    ca-certificates-2021.5.30  |       ha878542_0         136 KB  conda-forge\n",
            "    ld_impl_linux-64-2.36.1    |       hea4e1c9_2         667 KB  conda-forge\n",
            "    libffi-3.4.2               |       h9c3ff4c_4          57 KB  conda-forge\n",
            "    libgcc-ng-11.2.0           |       h1d223b6_9         889 KB  conda-forge\n",
            "    libgomp-11.2.0             |       h1d223b6_9         428 KB  conda-forge\n",
            "    libstdcxx-ng-11.2.0        |       he4da1e4_9         4.2 MB  conda-forge\n",
            "    libzlib-1.2.11             |    h36c2ea0_1013          59 KB  conda-forge\n",
            "    openssl-1.1.1l             |       h7f98852_0         2.1 MB  conda-forge\n",
            "    pip-21.2.4                 |     pyhd8ed1ab_0         1.1 MB  conda-forge\n",
            "    python-3.6.13              |hb7a2778_2_cpython        38.3 MB  conda-forge\n",
            "    python_abi-3.6             |          2_cp36m           4 KB  conda-forge\n",
            "    readline-8.1               |       h46c0cb4_0         295 KB  conda-forge\n",
            "    setuptools-58.0.4          |   py36h5fab9bb_2         966 KB  conda-forge\n",
            "    sqlite-3.36.0              |       h9cd32fc_2         1.4 MB  conda-forge\n",
            "    tk-8.6.11                  |       h27826a3_1         3.3 MB  conda-forge\n",
            "    wheel-0.37.0               |     pyhd8ed1ab_1          31 KB  conda-forge\n",
            "    zlib-1.2.11                |    h36c2ea0_1013          86 KB  conda-forge\n",
            "    ------------------------------------------------------------\n",
            "                                           Total:        54.0 MB\n",
            "\n",
            "The following NEW packages will be INSTALLED:\n",
            "\n",
            "  _libgcc_mutex      conda-forge/linux-64::_libgcc_mutex-0.1-conda_forge\n",
            "  _openmp_mutex      conda-forge/linux-64::_openmp_mutex-4.5-1_gnu\n",
            "  ca-certificates    conda-forge/linux-64::ca-certificates-2021.5.30-ha878542_0\n",
            "  ld_impl_linux-64   conda-forge/linux-64::ld_impl_linux-64-2.36.1-hea4e1c9_2\n",
            "  libffi             conda-forge/linux-64::libffi-3.4.2-h9c3ff4c_4\n",
            "  libgcc-ng          conda-forge/linux-64::libgcc-ng-11.2.0-h1d223b6_9\n",
            "  libgomp            conda-forge/linux-64::libgomp-11.2.0-h1d223b6_9\n",
            "  libstdcxx-ng       conda-forge/linux-64::libstdcxx-ng-11.2.0-he4da1e4_9\n",
            "  libzlib            conda-forge/linux-64::libzlib-1.2.11-h36c2ea0_1013\n",
            "  ncurses            conda-forge/linux-64::ncurses-6.2-h58526e2_4\n",
            "  openssl            conda-forge/linux-64::openssl-1.1.1l-h7f98852_0\n",
            "  pip                conda-forge/noarch::pip-21.2.4-pyhd8ed1ab_0\n",
            "  python             conda-forge/linux-64::python-3.6.13-hb7a2778_2_cpython\n",
            "  python_abi         conda-forge/linux-64::python_abi-3.6-2_cp36m\n",
            "  readline           conda-forge/linux-64::readline-8.1-h46c0cb4_0\n",
            "  setuptools         conda-forge/linux-64::setuptools-58.0.4-py36h5fab9bb_2\n",
            "  sqlite             conda-forge/linux-64::sqlite-3.36.0-h9cd32fc_2\n",
            "  tk                 conda-forge/linux-64::tk-8.6.11-h27826a3_1\n",
            "  wheel              conda-forge/noarch::wheel-0.37.0-pyhd8ed1ab_1\n",
            "  xz                 conda-forge/linux-64::xz-5.2.5-h516909a_1\n",
            "  zlib               conda-forge/linux-64::zlib-1.2.11-h36c2ea0_1013\n",
            "\n",
            "\n",
            "\n",
            "Downloading and Extracting Packages\n",
            "pip-21.2.4           | 1.1 MB    | : 100% 1.0/1 [00:00<00:00,  2.82it/s]\n",
            "wheel-0.37.0         | 31 KB     | : 100% 1.0/1 [00:00<00:00, 25.28it/s]\n",
            "libgcc-ng-11.2.0     | 889 KB    | : 100% 1.0/1 [00:00<00:00,  6.18it/s]\n",
            "zlib-1.2.11          | 86 KB     | : 100% 1.0/1 [00:00<00:00, 19.03it/s]\n",
            "libffi-3.4.2         | 57 KB     | : 100% 1.0/1 [00:00<00:00, 20.68it/s]\n",
            "setuptools-58.0.4    | 966 KB    | : 100% 1.0/1 [00:00<00:00,  3.98it/s]\n",
            "openssl-1.1.1l       | 2.1 MB    | : 100% 1.0/1 [00:00<00:00,  2.78it/s]\n",
            "libzlib-1.2.11       | 59 KB     | : 100% 1.0/1 [00:00<00:00, 27.39it/s]\n",
            "sqlite-3.36.0        | 1.4 MB    | : 100% 1.0/1 [00:00<00:00,  4.04it/s]\n",
            "ld_impl_linux-64-2.3 | 667 KB    | : 100% 1.0/1 [00:00<00:00,  5.67it/s]\n",
            "libstdcxx-ng-11.2.0  | 4.2 MB    | : 100% 1.0/1 [00:00<00:00,  1.48it/s]\n",
            "python-3.6.13        | 38.3 MB   | : 100% 1.0/1 [00:05<00:00,  5.58s/it]               \n",
            "tk-8.6.11            | 3.3 MB    | : 100% 1.0/1 [00:00<00:00,  1.64it/s]\n",
            "libgomp-11.2.0       | 428 KB    | : 100% 1.0/1 [00:00<00:00, 11.75it/s]\n",
            "python_abi-3.6       | 4 KB      | : 100% 1.0/1 [00:00<00:00, 29.32it/s]\n",
            "readline-8.1         | 295 KB    | : 100% 1.0/1 [00:00<00:00, 13.14it/s]\n",
            "ca-certificates-2021 | 136 KB    | : 100% 1.0/1 [00:00<00:00, 19.93it/s]\n",
            "Preparing transaction: \\ \b\b| \b\b/ \b\bdone\n",
            "Verifying transaction: \\ \b\b| \b\b/ \b\b- \b\b\\ \b\b| \b\b/ \b\b- \b\b\\ \b\b| \b\b/ \b\b- \b\b\\ \b\b| \b\b/ \b\b- \b\b\\ \b\b| \b\bdone\n",
            "Executing transaction: - \b\b\\ \b\b| \b\b/ \b\b- \b\b\\ \b\b| \b\b/ \b\b- \b\b\\ \b\b| \b\b/ \b\b- \b\b\\ \b\b| \b\b/ \b\b- \b\b\\ \b\bdone\n",
            "#\n",
            "# To activate this environment, use\n",
            "#\n",
            "#     $ conda activate labelme\n",
            "#\n",
            "# To deactivate an active environment, use\n",
            "#\n",
            "#     $ conda deactivate\n",
            "\n",
            "Collecting labelme\n",
            "  Downloading labelme-4.5.12.tar.gz (1.5 MB)\n",
            "\u001b[K     |████████████████████████████████| 1.5 MB 13.3 MB/s \n",
            "\u001b[?25hCollecting imgviz>=0.11\n",
            "  Downloading imgviz-1.3.0.tar.gz (7.7 MB)\n",
            "\u001b[K     |████████████████████████████████| 7.7 MB 15.7 MB/s \n",
            "\u001b[?25h  Installing build dependencies ... \u001b[?25l\u001b[?25hdone\n",
            "  Getting requirements to build wheel ... \u001b[?25l\u001b[?25hdone\n",
            "    Preparing wheel metadata ... \u001b[?25l\u001b[?25hdone\n",
            "Collecting matplotlib<3.3\n",
            "  Downloading matplotlib-3.2.2-cp37-cp37m-manylinux1_x86_64.whl (12.4 MB)\n",
            "\u001b[K     |████████████████████████████████| 12.4 MB 44 kB/s \n",
            "\u001b[?25hCollecting numpy\n",
            "  Downloading numpy-1.21.2-cp37-cp37m-manylinux_2_12_x86_64.manylinux2010_x86_64.whl (15.7 MB)\n",
            "\u001b[K     |████████████████████████████████| 15.7 MB 138 kB/s \n",
            "\u001b[?25hCollecting Pillow>=2.8\n",
            "  Downloading Pillow-8.3.2-cp37-cp37m-manylinux_2_17_x86_64.manylinux2014_x86_64.whl (3.0 MB)\n",
            "\u001b[K     |████████████████████████████████| 3.0 MB 41.7 MB/s \n",
            "\u001b[?25hCollecting PyYAML\n",
            "  Downloading PyYAML-5.4.1-cp37-cp37m-manylinux1_x86_64.whl (636 kB)\n",
            "\u001b[K     |████████████████████████████████| 636 kB 36.5 MB/s \n",
            "\u001b[?25hCollecting qtpy\n",
            "  Downloading QtPy-1.11.2-py2.py3-none-any.whl (58 kB)\n",
            "\u001b[K     |████████████████████████████████| 58 kB 6.5 MB/s \n",
            "\u001b[?25hCollecting termcolor\n",
            "  Downloading termcolor-1.1.0.tar.gz (3.9 kB)\n",
            "Collecting PyQt5!=5.15.3,!=5.15.4\n",
            "  Downloading PyQt5-5.15.2-5.15.2-cp35.cp36.cp37.cp38.cp39-abi3-manylinux2014_x86_64.whl (68.3 MB)\n",
            "\u001b[K     |████████████████████████████████| 68.3 MB 35 kB/s \n",
            "\u001b[?25hCollecting pyparsing!=2.0.4,!=2.1.2,!=2.1.6,>=2.0.1\n",
            "  Downloading pyparsing-2.4.7-py2.py3-none-any.whl (67 kB)\n",
            "\u001b[K     |████████████████████████████████| 67 kB 6.7 MB/s \n",
            "\u001b[?25hCollecting cycler>=0.10\n",
            "  Downloading cycler-0.10.0-py2.py3-none-any.whl (6.5 kB)\n",
            "Collecting python-dateutil>=2.1\n",
            "  Downloading python_dateutil-2.8.2-py2.py3-none-any.whl (247 kB)\n",
            "\u001b[K     |████████████████████████████████| 247 kB 51.0 MB/s \n",
            "\u001b[?25hCollecting kiwisolver>=1.0.1\n",
            "  Downloading kiwisolver-1.3.2-cp37-cp37m-manylinux_2_5_x86_64.manylinux1_x86_64.whl (1.1 MB)\n",
            "\u001b[K     |████████████████████████████████| 1.1 MB 50.7 MB/s \n",
            "\u001b[?25hRequirement already satisfied: six in /usr/local/lib/python3.7/site-packages (from cycler>=0.10->matplotlib<3.3->labelme) (1.15.0)\n",
            "Collecting PyQt5-sip<13,>=12.8\n",
            "  Downloading PyQt5_sip-12.9.0-cp37-cp37m-manylinux1_x86_64.whl (317 kB)\n",
            "\u001b[K     |████████████████████████████████| 317 kB 53.3 MB/s \n",
            "\u001b[?25hBuilding wheels for collected packages: labelme, imgviz, termcolor\n",
            "  Building wheel for labelme (setup.py) ... \u001b[?25l\u001b[?25hdone\n",
            "  Created wheel for labelme: filename=labelme-4.5.12-py3-none-any.whl size=1466145 sha256=bd7926ada05f242ea0de651e8aec97f8d6a75830d29e85137ccaee305b0218bb\n",
            "  Stored in directory: /root/.cache/pip/wheels/9e/23/b7/6c15083c8366d782fe2ef22606b10d9f3131bb4aaf8ba4cd22\n",
            "  Building wheel for imgviz (PEP 517) ... \u001b[?25l\u001b[?25hdone\n",
            "  Created wheel for imgviz: filename=imgviz-1.3.0-py3-none-any.whl size=7670769 sha256=57a3ee27053251971edf1d871679104c46d2c05263bdfe996a235329412e5e6a\n",
            "  Stored in directory: /root/.cache/pip/wheels/55/76/db/e0d0b8fac837e551028846c02a38217935e830f11166106179\n",
            "  Building wheel for termcolor (setup.py) ... \u001b[?25l\u001b[?25hdone\n",
            "  Created wheel for termcolor: filename=termcolor-1.1.0-py3-none-any.whl size=4829 sha256=36e1c80beb1ad94c0a2f4ef653260951f52875d4c005b1beff4f09f3a6aa769f\n",
            "  Stored in directory: /root/.cache/pip/wheels/3f/e3/ec/8a8336ff196023622fbcb36de0c5a5c218cbb24111d1d4c7f2\n",
            "Successfully built labelme imgviz termcolor\n",
            "Installing collected packages: python-dateutil, pyparsing, numpy, kiwisolver, cycler, PyYAML, PyQt5-sip, Pillow, matplotlib, termcolor, qtpy, PyQt5, imgviz, labelme\n",
            "Successfully installed Pillow-8.3.2 PyQt5-5.15.2 PyQt5-sip-12.9.0 PyYAML-5.4.1 cycler-0.10.0 imgviz-1.3.0 kiwisolver-1.3.2 labelme-4.5.12 matplotlib-3.2.2 numpy-1.21.2 pyparsing-2.4.7 python-dateutil-2.8.2 qtpy-1.11.2 termcolor-1.1.0\n"
          ]
        },
        {
          "output_type": "display_data",
          "data": {
            "application/vnd.colab-display-data+json": {
              "pip_warning": {
                "packages": [
                  "cycler",
                  "dateutil",
                  "kiwisolver",
                  "matplotlib",
                  "mpl_toolkits",
                  "pyparsing"
                ]
              }
            }
          },
          "metadata": {}
        },
        {
          "output_type": "stream",
          "name": "stdout",
          "text": [
            "Cloning into 'labelme'...\n",
            "remote: Enumerating objects: 7212, done.\u001b[K\n",
            "remote: Counting objects: 100% (170/170), done.\u001b[K\n",
            "remote: Compressing objects: 100% (98/98), done.\u001b[K\n",
            "remote: Total 7212 (delta 81), reused 126 (delta 60), pack-reused 7042\u001b[K\n",
            "Receiving objects: 100% (7212/7212), 45.09 MiB | 3.71 MiB/s, done.\n",
            "Resolving deltas: 100% (4307/4307), done.\n",
            "Collecting pycocotools\n",
            "  Downloading pycocotools-2.0.2.tar.gz (23 kB)\n",
            "Requirement already satisfied: setuptools>=18.0 in /usr/local/lib/python3.7/site-packages (from pycocotools) (49.6.0.post20210108)\n",
            "Collecting cython>=0.27.3\n",
            "  Using cached Cython-0.29.24-cp37-cp37m-manylinux1_x86_64.whl (2.0 MB)\n",
            "Requirement already satisfied: matplotlib>=2.1.0 in /usr/local/lib/python3.7/site-packages (from pycocotools) (3.2.2)\n",
            "Requirement already satisfied: cycler>=0.10 in /usr/local/lib/python3.7/site-packages (from matplotlib>=2.1.0->pycocotools) (0.10.0)\n",
            "Requirement already satisfied: python-dateutil>=2.1 in /usr/local/lib/python3.7/site-packages (from matplotlib>=2.1.0->pycocotools) (2.8.2)\n",
            "Requirement already satisfied: pyparsing!=2.0.4,!=2.1.2,!=2.1.6,>=2.0.1 in /usr/local/lib/python3.7/site-packages (from matplotlib>=2.1.0->pycocotools) (2.4.7)\n",
            "Requirement already satisfied: numpy>=1.11 in /usr/local/lib/python3.7/site-packages (from matplotlib>=2.1.0->pycocotools) (1.21.2)\n",
            "Requirement already satisfied: kiwisolver>=1.0.1 in /usr/local/lib/python3.7/site-packages (from matplotlib>=2.1.0->pycocotools) (1.3.2)\n",
            "Requirement already satisfied: six in /usr/local/lib/python3.7/site-packages (from cycler>=0.10->matplotlib>=2.1.0->pycocotools) (1.15.0)\n",
            "Building wheels for collected packages: pycocotools\n",
            "  Building wheel for pycocotools (setup.py) ... \u001b[?25l\u001b[?25hdone\n",
            "  Created wheel for pycocotools: filename=pycocotools-2.0.2-cp37-cp37m-linux_x86_64.whl size=272855 sha256=947dc1abfd5fef3930d3d83ac2b050eb9a244d21b6ad72a7f5ffdb1fad96845f\n",
            "  Stored in directory: /root/.cache/pip/wheels/bc/cf/1b/e95c99c5f9d1648be3f500ca55e7ce55f24818b0f48336adaf\n",
            "Successfully built pycocotools\n",
            "Installing collected packages: cython, pycocotools\n",
            "Successfully installed cython-0.29.24 pycocotools-2.0.2\n"
          ]
        }
      ]
    },
    {
      "cell_type": "code",
      "metadata": {
        "colab": {
          "base_uri": "https://localhost:8080/"
        },
        "id": "UEBpKSr3SJbv",
        "outputId": "f73366a8-ec85-4da7-bfe6-09486e3371fc"
      },
      "source": [
        "from google.colab import drive\n",
        "drive.mount('/content/drive')  "
      ],
      "execution_count": 1,
      "outputs": [
        {
          "output_type": "stream",
          "name": "stdout",
          "text": [
            "Drive already mounted at /content/drive; to attempt to forcibly remount, call drive.mount(\"/content/drive\", force_remount=True).\n"
          ]
        }
      ]
    },
    {
      "cell_type": "code",
      "metadata": {
        "colab": {
          "base_uri": "https://localhost:8080/"
        },
        "id": "aob-cBmDVgN2",
        "outputId": "9a3a8ce3-c200-4b5a-b65e-c0e4766a1fbf"
      },
      "source": [
        "!python labelme/examples/instance_segmentation/labelme2coco.py drive/MyDrive/Parasite/New/Train3 drive/MyDrive/Parasite/New/Train3label --labels drive/MyDrive/Parasite/New/Class.txt"
      ],
      "execution_count": null,
      "outputs": [
        {
          "output_type": "stream",
          "name": "stdout",
          "text": [
            "Creating dataset: drive/MyDrive/Parasite/New/Train3label\n",
            "Generating dataset from: drive/MyDrive/Parasite/New/Train3/IMG_4323.json\n",
            "Generating dataset from: drive/MyDrive/Parasite/New/Train3/Echinostomaspp(1).json\n",
            "Generating dataset from: drive/MyDrive/Parasite/New/Train3/Echinostomaspp(10).json\n",
            "Generating dataset from: drive/MyDrive/Parasite/New/Train3/Echinostomaspp(11).json\n",
            "Generating dataset from: drive/MyDrive/Parasite/New/Train3/Echinostomaspp(12).json\n",
            "Generating dataset from: drive/MyDrive/Parasite/New/Train3/Echinostomaspp(13).json\n",
            "Generating dataset from: drive/MyDrive/Parasite/New/Train3/Echinostomaspp(14).json\n",
            "Generating dataset from: drive/MyDrive/Parasite/New/Train3/Echinostomaspp(15).json\n",
            "Generating dataset from: drive/MyDrive/Parasite/New/Train3/Echinostomaspp(2).json\n",
            "Generating dataset from: drive/MyDrive/Parasite/New/Train3/Echinostomaspp(3)___.json\n",
            "Generating dataset from: drive/MyDrive/Parasite/New/Train3/Echinostomaspp(4).json\n",
            "Generating dataset from: drive/MyDrive/Parasite/New/Train3/Echinostomaspp(5).json\n",
            "Generating dataset from: drive/MyDrive/Parasite/New/Train3/Echinostomaspp(6).json\n",
            "Generating dataset from: drive/MyDrive/Parasite/New/Train3/Echinostomaspp(7).json\n",
            "Generating dataset from: drive/MyDrive/Parasite/New/Train3/Echinostomaspp(8).json\n",
            "Generating dataset from: drive/MyDrive/Parasite/New/Train3/Echinostomaspp(9).json\n",
            "Generating dataset from: drive/MyDrive/Parasite/New/Train3/Echinostomaspp-egg.json\n",
            "Generating dataset from: drive/MyDrive/Parasite/New/Train3/Echinostomaspp.json\n",
            "Generating dataset from: drive/MyDrive/Parasite/New/Train3/Echinostomaspp_.json\n",
            "Generating dataset from: drive/MyDrive/Parasite/New/Train3/Echinostomasppegg(2).json\n",
            "Generating dataset from: drive/MyDrive/Parasite/New/Train3/Echinostomasppegg(3).json\n",
            "Generating dataset from: drive/MyDrive/Parasite/New/Train3/Echinostomasppegg(4).json\n",
            "Generating dataset from: drive/MyDrive/Parasite/New/Train3/Echinostomasppegg(4)___.json\n",
            "Generating dataset from: drive/MyDrive/Parasite/New/Train3/Echinostomasppre.json\n",
            "Generating dataset from: drive/MyDrive/Parasite/New/Train3/f.json\n",
            "Generating dataset from: drive/MyDrive/Parasite/New/Train3/g.json\n",
            "Generating dataset from: drive/MyDrive/Parasite/New/Train3/h.json\n",
            "Generating dataset from: drive/MyDrive/Parasite/New/Train3/i.json\n",
            "Generating dataset from: drive/MyDrive/Parasite/New/Train3/IMG_20190719_154513_1.json\n",
            "tcmalloc: large alloc 1152000000 bytes == 0x55c8397ca000 @  0x7f7c1764c1e7 0x7f7c1594292e 0x7f7c159991e5 0x7f7c159992f8 0x7f7c15a586c4 0x7f7c15a5b8dc 0x7f7c15be297c 0x7f7c15be33e0 0x55c7ba2f1385 0x55c7ba2f15e9 0x7f7c15a62936 0x55c7ba348a4f 0x55c7ba3a13f8 0x55c7ba2e7af2 0x55c7ba316030 0x55c7ba3799c8 0x55c7ba3a11d9 0x55c7ba2e7af2 0x55c7ba316030 0x55c7ba3799c8 0x55c7ba3a04ac 0x55c7ba2e7af2 0x55c7ba2e8d09 0x55c7ba3c38ab 0x55c7ba427f53 0x55c7ba431fd7 0x55c7ba4321ac 0x55c7ba432709 0x55c7ba43285c 0x7f7c1667dbf7 0x55c7ba3af901\n",
            "Generating dataset from: drive/MyDrive/Parasite/New/Train3/IMG_20190719_155012_1.json\n",
            "Generating dataset from: drive/MyDrive/Parasite/New/Train3/IMG_20190719_155140_1.json\n",
            "Generating dataset from: drive/MyDrive/Parasite/New/Train3/IMG_20190719_155301.json\n",
            "Generating dataset from: drive/MyDrive/Parasite/New/Train3/IMG_20190719_155812_1.json\n",
            "Generating dataset from: drive/MyDrive/Parasite/New/Train3/IMG_20190719_160011_1.json\n",
            "Generating dataset from: drive/MyDrive/Parasite/New/Train3/20190527_194420.json\n",
            "Generating dataset from: drive/MyDrive/Parasite/New/Train3/20190527_194518.json\n",
            "Generating dataset from: drive/MyDrive/Parasite/New/Train3/20190527_194610.json\n",
            "Generating dataset from: drive/MyDrive/Parasite/New/Train3/20190527_194851.json\n",
            "Generating dataset from: drive/MyDrive/Parasite/New/Train3/20190527_194957.json\n"
          ]
        }
      ]
    }
  ]
}