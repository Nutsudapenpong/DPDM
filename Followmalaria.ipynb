{
  "nbformat": 4,
  "nbformat_minor": 0,
  "metadata": {
    "colab": {
      "name": "Untitled12.ipynb",
      "provenance": [],
      "authorship_tag": "ABX9TyP+dgc3tXkIPfZjxgyQ7+30",
      "include_colab_link": true
    },
    "kernelspec": {
      "name": "python3",
      "display_name": "Python 3"
    },
    "language_info": {
      "name": "python"
    }
  },
  "cells": [
    {
      "cell_type": "markdown",
      "metadata": {
        "id": "view-in-github",
        "colab_type": "text"
      },
      "source": [
        "<a href=\"https://colab.research.google.com/github/Nutsudapenpong/DPDM/blob/master/Followmalaria.ipynb\" target=\"_parent\"><img src=\"https://colab.research.google.com/assets/colab-badge.svg\" alt=\"Open In Colab\"/></a>"
      ]
    },
    {
      "cell_type": "code",
      "metadata": {
        "id": "p96z2Uvu8Wui"
      },
      "source": [
        " import numpy as np\n",
        " import time\n",
        " import sys\n",
        " import os\n",
        " import random\n",
        " #from skimage import io\n",
        " import pandas as pd \n",
        " from matplotlib import pyplot as plt\n",
        " from shutil import copyfile\n",
        "\n",
        " import cv2\n",
        " import tensorflow as tf"
      ],
      "execution_count": 1,
      "outputs": []
    },
    {
      "cell_type": "code",
      "metadata": {
        "colab": {
          "base_uri": "https://localhost:8080/"
        },
        "id": "WGIPvCNlXNBK",
        "outputId": "ebe79436-b5d5-4005-d8e7-4a2e6d3c9159"
      },
      "source": [
        "from google.colab import drive\n",
        "drive.mount('/content/drive')"
      ],
      "execution_count": 3,
      "outputs": [
        {
          "output_type": "stream",
          "text": [
            "Mounted at /content/drive\n"
          ],
          "name": "stdout"
        }
      ]
    },
    {
      "cell_type": "code",
      "metadata": {
        "id": "HITlOYG5XUjm"
      },
      "source": [
        "base_path = '/content/drive/My Drive/Project/malaria' \n",
        "\n",
        "train_path =  '/content/drive/My Drive/Project/malaria/training.json'"
      ],
      "execution_count": 4,
      "outputs": []
    },
    {
      "cell_type": "code",
      "metadata": {
        "id": "fPnsY7ZyTdA_"
      },
      "source": [
        "import json\n",
        "import csv\n",
        "\n",
        "#read file\n",
        "with open(train_path, 'r') as myfile:\n",
        "  data=myfile.read()\n",
        "\n",
        "#parse file\n",
        "objlist = json.loads(data)\n",
        "_list = []\n",
        "for obj in objlist:\n",
        "  _imageRow = []\n",
        "  img = obj['image']\n",
        "  _imageRow.append(img['checksum'])\n",
        "  _imageRow.append(img['pathname'])\n",
        "  shp = img['shape']\n",
        "  _imageRow.append(shp['r'])\n",
        "  _imageRow.append(shp['c'])\n",
        "  _imageRow.append(shp['channels'])\n",
        "\n",
        "  bound0bjs = obj['objects']\n",
        "  for bound0bj in bound0bjs:\n",
        "    _bondBox = []\n",
        "\n",
        "    bbox = bound0bj['bounding_box']\n",
        "    bmin = bbox['minimum']\n",
        "    _bondBox.append(bmin['r'])\n",
        "    _bondBox.append(bmin['c'])\n",
        "\n",
        "    bmax = bbox['maximum']\n",
        "    _bondBox.append(bmax['r'])\n",
        "    _bondBox.append(bmax['c'])\n",
        "    _bondBox.append(bound0bj['category'])\n",
        "\n",
        "    #Prepare record\n",
        "    _newRow = []\n",
        "    for r in _imageRow:\n",
        "      _newRow.append(r)\n",
        "    for r in _bondBox:\n",
        "      _newRow.append(r)\n",
        "    _bondBox.remove\n",
        "    _list.append(_newRow)\n",
        "  _imageRow.remove\n",
        "#print(_list)\n",
        "with open('train.csv', 'w', newline='') as file:\n",
        "  writer = csv.writer(file)\n",
        "  writer.writerow(['checksum', 'pathname', 'shapeR', 'shapeC', 'channels', 'bbminR', 'bbminC', 'bbmaxR', 'bbmaxC', 'category'])\n",
        "  writer.writerows(_list)"
      ],
      "execution_count": 5,
      "outputs": []
    }
  ]
}