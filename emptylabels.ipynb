{
  "nbformat": 4,
  "nbformat_minor": 0,
  "metadata": {
    "colab": {
      "name": "Untitled21.ipynb",
      "provenance": [],
      "authorship_tag": "ABX9TyMxc4HOSZ4OszVG2B2XDrDa",
      "include_colab_link": true
    },
    "kernelspec": {
      "name": "python3",
      "display_name": "Python 3"
    },
    "language_info": {
      "name": "python"
    }
  },
  "cells": [
    {
      "cell_type": "markdown",
      "metadata": {
        "id": "view-in-github",
        "colab_type": "text"
      },
      "source": [
        "<a href=\"https://colab.research.google.com/github/Nutsudapenpong/DPDM/blob/master/emptylabels.ipynb\" target=\"_parent\"><img src=\"https://colab.research.google.com/assets/colab-badge.svg\" alt=\"Open In Colab\"/></a>"
      ]
    },
    {
      "cell_type": "code",
      "source": [
        "from google.colab import drive\n",
        "drive.mount('/content/drive')  "
      ],
      "metadata": {
        "colab": {
          "base_uri": "https://localhost:8080/"
        },
        "id": "PuELFvnWa-X_",
        "outputId": "e04e4ae0-c209-491a-a7e9-4e9675e4ec65"
      },
      "execution_count": 1,
      "outputs": [
        {
          "output_type": "stream",
          "name": "stdout",
          "text": [
            "Mounted at /content/drive\n"
          ]
        }
      ]
    },
    {
      "cell_type": "code",
      "execution_count": 4,
      "metadata": {
        "id": "fGLFZLQIaZfv"
      },
      "outputs": [],
      "source": [
        "path = '/content/drive/My Drive/Parasite/Comparison/With/OUD3emptylabels'"
      ]
    },
    {
      "cell_type": "code",
      "source": [
        "import os\n",
        "  \n",
        "# Folder Path\n",
        "  \n",
        "# Change the directory\n",
        "os.chdir(path)\n",
        "  \n",
        "# Read text File\n",
        "  \n",
        "  \n",
        "def read_text_file(file_path):\n",
        "    with open(file_path, \"r\") as f:\n",
        "      lines = f.readlines()\n",
        "    with open(file_path, \"w\") as f:\n",
        "      f.close()\n",
        "    \n",
        "  \n",
        "  \n",
        "# iterate through all file\n",
        "for file in os.listdir():\n",
        "    # Check whether file is in text format or not\n",
        "    if file.endswith(\".txt\"):\n",
        "        file_path = f\"{path}/{file}\"\n",
        "  \n",
        "        # call read text file function\n",
        "        read_text_file(file_path)"
      ],
      "metadata": {
        "id": "2GrjhQukbqYg"
      },
      "execution_count": 12,
      "outputs": []
    },
    {
      "cell_type": "code",
      "source": [
        "a_file = open(\"sample.txt\", \"r\")\n",
        "list_of_lines = a_file.readlines()\n",
        "list_of_lines[1] = \"Line2\\n\""
      ],
      "metadata": {
        "id": "dTXLTqIOc-UL"
      },
      "execution_count": null,
      "outputs": []
    }
  ]
}