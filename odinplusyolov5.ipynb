{
  "nbformat": 4,
  "nbformat_minor": 0,
  "metadata": {
    "colab": {
      "name": "Untitled23.ipynb",
      "provenance": [],
      "authorship_tag": "ABX9TyPrzaD2zeM/dGwwqZrLC4Tk",
      "include_colab_link": true
    },
    "kernelspec": {
      "name": "python3",
      "display_name": "Python 3"
    },
    "language_info": {
      "name": "python"
    }
  },
  "cells": [
    {
      "cell_type": "markdown",
      "metadata": {
        "id": "view-in-github",
        "colab_type": "text"
      },
      "source": [
        "<a href=\"https://colab.research.google.com/github/Nutsudapenpong/DPDM/blob/master/odinplusyolov5.ipynb\" target=\"_parent\"><img src=\"https://colab.research.google.com/assets/colab-badge.svg\" alt=\"Open In Colab\"/></a>"
      ]
    },
    {
      "cell_type": "code",
      "execution_count": 1,
      "metadata": {
        "id": "ZwIjAqcONEA5",
        "outputId": "9f3ce300-fab3-4840-9801-afb960f89682",
        "colab": {
          "base_uri": "https://localhost:8080/"
        }
      },
      "outputs": [
        {
          "output_type": "stream",
          "name": "stdout",
          "text": [
            "Mounted at /content/drive\n"
          ]
        }
      ],
      "source": [
        "from google.colab import drive\n",
        "drive.mount('/content/drive')"
      ]
    },
    {
      "cell_type": "code",
      "source": [
        "%cd /content/drive/MyDrive/image_yolo/odin/code"
      ],
      "metadata": {
        "colab": {
          "base_uri": "https://localhost:8080/"
        },
        "id": "mbopFL9tNMW2",
        "outputId": "87496f1f-6943-4f30-bfe1-af4a74de5c30"
      },
      "execution_count": 2,
      "outputs": [
        {
          "output_type": "stream",
          "name": "stdout",
          "text": [
            "/content/drive/MyDrive/image_yolo/odin/code\n"
          ]
        }
      ]
    },
    {
      "cell_type": "code",
      "source": [
        "!python main.py --nn densenet10 --out_dataset Imagenet --magnitude 0.0014 --temperature 1000 --gpu 0"
      ],
      "metadata": {
        "colab": {
          "base_uri": "https://localhost:8080/"
        },
        "id": "g34CRjgSNn-4",
        "outputId": "ada20f34-3d8c-440c-de9a-f60a23fb7c92"
      },
      "execution_count": null,
      "outputs": [
        {
          "output_type": "stream",
          "name": "stdout",
          "text": [
            "python3: can't open file 'main.py': [Errno 2] No such file or directory\n"
          ]
        }
      ]
    },
    {
      "cell_type": "code",
      "source": [
        "cd .."
      ],
      "metadata": {
        "id": "qPWD1ZRGHzgR",
        "outputId": "1545f7f1-f1d3-47bc-a2ab-970b29c20e78",
        "colab": {
          "base_uri": "https://localhost:8080/"
        }
      },
      "execution_count": 3,
      "outputs": [
        {
          "output_type": "stream",
          "name": "stdout",
          "text": [
            "/content/drive/MyDrive/image_yolo/odin\n"
          ]
        }
      ]
    },
    {
      "cell_type": "code",
      "source": [
        "cd .."
      ],
      "metadata": {
        "id": "v1NOEHBuH1-Q",
        "outputId": "13818dee-ecb4-4a40-e72a-9991b203ebbf",
        "colab": {
          "base_uri": "https://localhost:8080/"
        }
      },
      "execution_count": 4,
      "outputs": [
        {
          "output_type": "stream",
          "name": "stdout",
          "text": [
            "/content/drive/MyDrive/image_yolo\n"
          ]
        }
      ]
    },
    {
      "cell_type": "code",
      "source": [
        "%cd yolov5"
      ],
      "metadata": {
        "colab": {
          "base_uri": "https://localhost:8080/"
        },
        "id": "UjggPaHt88SX",
        "outputId": "020e6f3a-66ea-4b7a-9402-3a8016cc8a30"
      },
      "execution_count": 5,
      "outputs": [
        {
          "output_type": "stream",
          "name": "stdout",
          "text": [
            "/content/drive/MyDrive/image_yolo/yolov5\n"
          ]
        }
      ]
    },
    {
      "cell_type": "code",
      "source": [
        "!nvidia-smi"
      ],
      "metadata": {
        "id": "IZTmldP1US_S",
        "outputId": "1b999c4f-00e8-4243-b46a-6de990e79792",
        "colab": {
          "base_uri": "https://localhost:8080/"
        }
      },
      "execution_count": 11,
      "outputs": [
        {
          "output_type": "stream",
          "name": "stdout",
          "text": [
            "NVIDIA-SMI has failed because it couldn't communicate with the NVIDIA driver. Make sure that the latest NVIDIA driver is installed and running.\n",
            "\n"
          ]
        }
      ]
    },
    {
      "cell_type": "code",
      "source": [
        ""
      ],
      "metadata": {
        "id": "d7EIpdAsgjb1"
      },
      "execution_count": null,
      "outputs": []
    },
    {
      "cell_type": "code",
      "source": [
        "import os\n",
        "os.environ['CUDA_VISIBLE_DEVICES'] = '0'\n",
        "import tensorflow as tf\n",
        "tf.test.gpu_device_name()"
      ],
      "metadata": {
        "id": "E1yVdl2DUv-b",
        "outputId": "ed314e5e-8c82-41ff-a970-ca2627973156",
        "colab": {
          "base_uri": "https://localhost:8080/",
          "height": 35
        }
      },
      "execution_count": 12,
      "outputs": [
        {
          "output_type": "execute_result",
          "data": {
            "application/vnd.google.colaboratory.intrinsic+json": {
              "type": "string"
            },
            "text/plain": [
              "''"
            ]
          },
          "metadata": {},
          "execution_count": 12
        }
      ]
    },
    {
      "cell_type": "code",
      "source": [
        "!python detect.py --source test/images --weights runs/train/exp6/weights/best.pt "
      ],
      "metadata": {
        "colab": {
          "base_uri": "https://localhost:8080/"
        },
        "id": "bTDAoJ3C9Erp",
        "outputId": "0bc284f3-3225-4701-fcc0-e7c20f0e6f51"
      },
      "execution_count": 7,
      "outputs": [
        {
          "output_type": "stream",
          "name": "stdout",
          "text": [
            "\u001b[34m\u001b[1mdetect: \u001b[0mweights=['runs/train/exp6/weights/best.pt'], source=test/images, out_dataset=Imagenet, imgsz=[640, 640], conf_thres=0.25, iou_thres=0.45, max_det=1000, device=, view_img=False, save_txt=False, save_conf=False, save_crop=False, nosave=False, classes=None, agnostic_nms=False, augment=False, visualize=False, update=False, project=runs/detect, name=exp, exist_ok=False, line_thickness=3, hide_labels=False, hide_conf=False, half=False, dnn=False\n",
            "YOLOv5 🚀 v6.0-138-g8f875d9 torch 1.10.0+cu111 CPU\n",
            "\n",
            "Fusing layers... \n",
            "Model Summary: 476 layers, 76164816 parameters, 0 gradients\n",
            "Processing in-distribution images\n",
            "output2\n",
            "tensor([[0.00946, 0.00581, 0.05596, 0.04841, 0.06384, 0.02332, 0.02183],\n",
            "        [0.01216, 0.00672, 0.05889, 0.03886, 0.05635, 0.03688, 0.02315],\n",
            "        [0.00855, 0.00511, 0.03177, 0.04022, 0.04098, 0.06311, 0.02029],\n",
            "        [0.00745, 0.00623, 0.11860, 0.07608, 0.12954, 0.02178, 0.03385],\n",
            "        [0.00705, 0.00656, 0.11643, 0.06773, 0.10322, 0.04084, 0.03046],\n",
            "        [0.00976, 0.00401, 0.06316, 0.07644, 0.07548, 0.05973, 0.02647],\n",
            "        [0.00676, 0.00632, 0.07654, 0.05595, 0.07920, 0.02476, 0.02407],\n",
            "        [0.00712, 0.00543, 0.06266, 0.04707, 0.06264, 0.04321, 0.02046],\n",
            "        [0.00429, 0.00259, 0.03698, 0.04807, 0.05142, 0.04851, 0.01196],\n",
            "        [0.00673, 0.00462, 0.03442, 0.08228, 0.09328, 0.01653, 0.02218],\n",
            "        [0.01387, 0.00820, 0.06600, 0.12492, 0.13123, 0.01835, 0.04230],\n",
            "        [0.01157, 0.00779, 0.05481, 0.08361, 0.09528, 0.01400, 0.03545]])\n",
            "tensor([], size=(0, 7))\n",
            "class_confi\n",
            "tensor([])\n",
            "pred\n",
            "tensor([], size=(0, 6))\n",
            "0\n",
            "image 1/865 /content/drive/MyDrive/image_yolo/yolov5/test/images/Artifact_1000.jpg: 640x512 Done. (1.839s)\n",
            "tensor([])\n",
            "class_confi\n",
            "tensor([])\n",
            "pred\n",
            "tensor([], size=(0, 6))\n",
            "0\n",
            "image 2/865 /content/drive/MyDrive/image_yolo/yolov5/test/images/Artifact_1002.jpg: 640x512 Done. (1.840s)\n",
            "output2\n",
            "tensor([[0.01212, 0.00849, 0.07343, 0.09921, 0.10681, 0.01560, 0.03612],\n",
            "        [0.00536, 0.00465, 0.01861, 0.15057, 0.16270, 0.01346, 0.03280],\n",
            "        [0.01656, 0.00773, 0.08093, 0.13318, 0.17878, 0.02159, 0.05861],\n",
            "        [0.00730, 0.00468, 0.02641, 0.31911, 0.28301, 0.03843, 0.06999],\n",
            "        [0.00712, 0.01098, 0.08914, 0.11672, 0.21661, 0.01868, 0.03740],\n",
            "        [0.00563, 0.00473, 0.00739, 0.13676, 0.13596, 0.00951, 0.01815],\n",
            "        [0.01171, 0.00591, 0.09909, 0.17429, 0.23184, 0.01798, 0.05717],\n",
            "        [0.01164, 0.00409, 0.01250, 0.31717, 0.21549, 0.02332, 0.02932],\n",
            "        [0.01235, 0.00841, 0.05895, 0.12531, 0.15749, 0.01613, 0.04696],\n",
            "        [0.00747, 0.00513, 0.00876, 0.11721, 0.12000, 0.01085, 0.01937],\n",
            "        [0.01326, 0.00624, 0.06262, 0.16698, 0.20569, 0.01385, 0.06527],\n",
            "        [0.00855, 0.00403, 0.01240, 0.23859, 0.21176, 0.02400, 0.02617],\n",
            "        [0.01060, 0.00883, 0.05181, 0.16504, 0.15696, 0.02498, 0.03570],\n",
            "        [0.01829, 0.01066, 0.07298, 0.19950, 0.20741, 0.01962, 0.05522],\n",
            "        [0.00976, 0.00822, 0.03037, 0.21489, 0.21321, 0.01775, 0.03651],\n",
            "        [0.00777, 0.00727, 0.04458, 0.07100, 0.10164, 0.02062, 0.03345],\n",
            "        [0.01007, 0.00685, 0.05218, 0.08710, 0.11713, 0.01336, 0.04017]])\n",
            "tensor([[0.00730, 0.00468, 0.02641, 0.31911, 0.28301, 0.03843, 0.06999],\n",
            "        [0.01164, 0.00409, 0.01250, 0.31717, 0.21549, 0.02332, 0.02932],\n",
            "        [0.00730, 0.00468, 0.02641, 0.31911, 0.28301, 0.03843, 0.06999]])\n",
            "class_confi\n",
            "tensor([[0.00730, 0.00468, 0.02641, 0.31911, 0.28301, 0.03843, 0.06999],\n",
            "        [0.01164, 0.00409, 0.01250, 0.31717, 0.21549, 0.02332, 0.02932]])\n",
            "pred\n",
            "tensor([[2.71891e+02, 3.65779e+02, 3.01249e+02, 4.03295e+02, 3.19105e-01, 3.00000e+00]])\n",
            "max_out\n",
            "0.31910503\n",
            "outputs\n",
            "tensor([[7.29587e-06, 4.67632e-06, 2.64135e-05, 3.19105e-04, 2.83007e-04, 3.84316e-05, 6.99948e-05]])\n",
            "maxIndexTemp\n",
            "tensor(3)\n",
            "Traceback (most recent call last):\n",
            "  File \"detect.py\", line 422, in <module>\n",
            "    main(opt)\n",
            "  File \"detect.py\", line 417, in main\n",
            "    run(**vars(opt))\n",
            "  File \"/usr/local/lib/python3.7/dist-packages/torch/autograd/grad_mode.py\", line 28, in decorate_context\n",
            "    return func(*args, **kwargs)\n",
            "  File \"detect.py\", line 261, in run\n",
            "    labels = Variable(torch.LongTensor([maxIndexTemp]).cuda(device))\n",
            "RuntimeError: Invalid device, must be cuda device\n"
          ]
        }
      ]
    },
    {
      "cell_type": "code",
      "source": [
        "import torch \n",
        "import tensorflow as tf\n",
        "\n",
        "p = torch.tensor([1,6])\n",
        "t = torch.tensor([2,3])\n",
        "z = torch.tensor([[]])\n",
        "z = torch.cat([([p,t])],0)\n",
        "print(z)"
      ],
      "metadata": {
        "id": "tU1mMt5qRrnY",
        "outputId": "9610b573-7fff-4fa0-9934-8bdd1cd366b4",
        "colab": {
          "base_uri": "https://localhost:8080/",
          "height": 216
        }
      },
      "execution_count": 50,
      "outputs": [
        {
          "output_type": "error",
          "ename": "TypeError",
          "evalue": "ignored",
          "traceback": [
            "\u001b[0;31m---------------------------------------------------------------------------\u001b[0m",
            "\u001b[0;31mTypeError\u001b[0m                                 Traceback (most recent call last)",
            "\u001b[0;32m<ipython-input-50-9c39c307d007>\u001b[0m in \u001b[0;36m<module>\u001b[0;34m()\u001b[0m\n\u001b[1;32m      5\u001b[0m \u001b[0mt\u001b[0m \u001b[0;34m=\u001b[0m \u001b[0mtorch\u001b[0m\u001b[0;34m.\u001b[0m\u001b[0mtensor\u001b[0m\u001b[0;34m(\u001b[0m\u001b[0;34m[\u001b[0m\u001b[0;36m2\u001b[0m\u001b[0;34m,\u001b[0m\u001b[0;36m3\u001b[0m\u001b[0;34m]\u001b[0m\u001b[0;34m)\u001b[0m\u001b[0;34m\u001b[0m\u001b[0;34m\u001b[0m\u001b[0m\n\u001b[1;32m      6\u001b[0m \u001b[0mz\u001b[0m \u001b[0;34m=\u001b[0m \u001b[0mtorch\u001b[0m\u001b[0;34m.\u001b[0m\u001b[0mtensor\u001b[0m\u001b[0;34m(\u001b[0m\u001b[0;34m[\u001b[0m\u001b[0;34m[\u001b[0m\u001b[0;34m]\u001b[0m\u001b[0;34m]\u001b[0m\u001b[0;34m)\u001b[0m\u001b[0;34m\u001b[0m\u001b[0;34m\u001b[0m\u001b[0m\n\u001b[0;32m----> 7\u001b[0;31m \u001b[0mz\u001b[0m \u001b[0;34m=\u001b[0m \u001b[0mtorch\u001b[0m\u001b[0;34m.\u001b[0m\u001b[0mcat\u001b[0m\u001b[0;34m(\u001b[0m\u001b[0;34m[\u001b[0m\u001b[0;34m(\u001b[0m\u001b[0;34m[\u001b[0m\u001b[0mp\u001b[0m\u001b[0;34m,\u001b[0m\u001b[0mt\u001b[0m\u001b[0;34m]\u001b[0m\u001b[0;34m)\u001b[0m\u001b[0;34m]\u001b[0m\u001b[0;34m,\u001b[0m\u001b[0;36m0\u001b[0m\u001b[0;34m)\u001b[0m\u001b[0;34m\u001b[0m\u001b[0;34m\u001b[0m\u001b[0m\n\u001b[0m\u001b[1;32m      8\u001b[0m \u001b[0mprint\u001b[0m\u001b[0;34m(\u001b[0m\u001b[0mz\u001b[0m\u001b[0;34m)\u001b[0m\u001b[0;34m\u001b[0m\u001b[0;34m\u001b[0m\u001b[0m\n",
            "\u001b[0;31mTypeError\u001b[0m: expected Tensor as element 0 in argument 0, but got list"
          ]
        }
      ]
    }
  ]
}