{
  "nbformat": 4,
  "nbformat_minor": 0,
  "metadata": {
    "colab": {
      "name": "Untitled23.ipynb",
      "provenance": [],
      "authorship_tag": "ABX9TyO2wer5CW7DtsfIEyUBw7ar",
      "include_colab_link": true
    },
    "kernelspec": {
      "name": "python3",
      "display_name": "Python 3"
    },
    "language_info": {
      "name": "python"
    }
  },
  "cells": [
    {
      "cell_type": "markdown",
      "metadata": {
        "id": "view-in-github",
        "colab_type": "text"
      },
      "source": [
        "<a href=\"https://colab.research.google.com/github/Nutsudapenpong/DPDM/blob/master/odinplusyolov5.ipynb\" target=\"_parent\"><img src=\"https://colab.research.google.com/assets/colab-badge.svg\" alt=\"Open In Colab\"/></a>"
      ]
    },
    {
      "cell_type": "code",
      "execution_count": 1,
      "metadata": {
        "colab": {
          "base_uri": "https://localhost:8080/"
        },
        "id": "ZwIjAqcONEA5",
        "outputId": "ab7c334c-ef24-4060-b3ae-ffb83f6047e6"
      },
      "outputs": [
        {
          "output_type": "stream",
          "name": "stdout",
          "text": [
            "Mounted at /content/drive\n"
          ]
        }
      ],
      "source": [
        "from google.colab import drive\n",
        "drive.mount('/content/drive')"
      ]
    },
    {
      "cell_type": "code",
      "source": [
        "%cd /content/drive/MyDrive/image_yolo/odin/code"
      ],
      "metadata": {
        "colab": {
          "base_uri": "https://localhost:8080/"
        },
        "id": "mbopFL9tNMW2",
        "outputId": "fdeacffb-0dc0-408c-abbb-368a6f0e4d59"
      },
      "execution_count": 2,
      "outputs": [
        {
          "output_type": "stream",
          "name": "stdout",
          "text": [
            "/content/drive/MyDrive/image_yolo/odin/code\n"
          ]
        }
      ]
    },
    {
      "cell_type": "code",
      "source": [
        "!python main.py --nn best --out_dataset Imagenet --magnitude 0.0014 --temperature 1000 --gpu 0"
      ],
      "metadata": {
        "colab": {
          "base_uri": "https://localhost:8080/"
        },
        "id": "g34CRjgSNn-4",
        "outputId": "c86b2d8a-8506-44e8-e082-c0abec2bb568"
      },
      "execution_count": 6,
      "outputs": [
        {
          "output_type": "stream",
          "name": "stdout",
          "text": [
            "Traceback (most recent call last):\n",
            "  File \"main.py\", line 84, in <module>\n",
            "    main()\n",
            "  File \"main.py\", line 81, in main\n",
            "    c.test(args.nn, args.out_dataset, args.gpu, args.magnitude, args.temperature)\n",
            "  File \"/content/drive/MyDrive/image_yolo/odin/code/cal.py\", line 64, in test\n",
            "    net1 = DetectMultiBackend(\"../models/{}.pt\".format(nnName), device=CUDA_DEVICE, dnn=False)\n",
            "  File \"/content/drive/MyDrive/image_yolo/odin/code/models/common.py\", line 308, in __init__\n",
            "    model = attempt_load(weights if isinstance(weights, list) else w, map_location=device)\n",
            "  File \"/content/drive/MyDrive/image_yolo/odin/code/models/experimental.py\", line 96, in attempt_load\n",
            "    ckpt = torch.load(attempt_download(w), map_location=map_location)  # load\n",
            "  File \"/usr/local/lib/python3.7/dist-packages/torch/serialization.py\", line 607, in load\n",
            "    return _load(opened_zipfile, map_location, pickle_module, **pickle_load_args)\n",
            "  File \"/usr/local/lib/python3.7/dist-packages/torch/serialization.py\", line 882, in _load\n",
            "    result = unpickler.load()\n",
            "  File \"/usr/local/lib/python3.7/dist-packages/torch/serialization.py\", line 857, in persistent_load\n",
            "    load_tensor(data_type, size, key, _maybe_decode_ascii(location))\n",
            "  File \"/usr/local/lib/python3.7/dist-packages/torch/serialization.py\", line 846, in load_tensor\n",
            "    loaded_storages[key] = restore_location(storage, location)\n",
            "  File \"/usr/local/lib/python3.7/dist-packages/torch/serialization.py\", line 830, in restore_location\n",
            "    result = map_location(storage, location)\n",
            "TypeError: 'int' object is not callable\n"
          ]
        }
      ]
    },
    {
      "cell_type": "code",
      "source": [
        "%cd yolov5"
      ],
      "metadata": {
        "id": "UjggPaHt88SX",
        "outputId": "fc831dfc-5398-4d8e-d25d-bb98a7865843",
        "colab": {
          "base_uri": "https://localhost:8080/"
        }
      },
      "execution_count": 9,
      "outputs": [
        {
          "output_type": "stream",
          "name": "stdout",
          "text": [
            "/content/drive/MyDrive/image_yolo/yolov5\n"
          ]
        }
      ]
    },
    {
      "cell_type": "code",
      "source": [
        "!python detect.py --source test/images --weights runs/train/exp6/weights/best.pt "
      ],
      "metadata": {
        "id": "bTDAoJ3C9Erp"
      },
      "execution_count": null,
      "outputs": []
    }
  ]
}